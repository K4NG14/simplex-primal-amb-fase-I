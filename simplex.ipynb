{
 "cells": [
  {
   "cell_type": "code",
   "execution_count": 1,
   "metadata": {},
   "outputs": [],
   "source": [
    "import numpy as np\n",
    "from numpy.linalg import inv"
   ]
  },
  {
   "cell_type": "code",
   "execution_count": null,
   "metadata": {},
   "outputs": [],
   "source": [
    "#matriz de restricciones\n",
    "A = np.array([[15, -36, 30, -54, 39, -92, 54, -76, 75, 30, 54, -36, -18, 79, 0, 0, 0, 0, 0, 0], \n",
    "     [-41, -38, 90, 74, 56, 37, 32, 92, 32, 35, 57, 64, 98, -51, 0, 0, 0, 0, 0, 0], \n",
    "     [-48, 38, -18, 20, 89, 15, 56, -64, -78, 35, 65, 55, -87, -23, 0, 0, 0, 0, 0, 0],\n",
    "     [-65, 36, 77, 49, 74, 68, 56, -91, 37, 78, 9, 63, -36, -63, 0, 0, 0, 0, 0, 0],\n",
    "     [100, 93, 50, 86, 50, 81, 67, 52, 52, 87, 61, 72, 68, 97, 1, 0, 0, 0, 0, 0],\n",
    "     [-23, -27, -69, 40, -93, 48, -11, -51, 64, -82, 0, 47, 65, 97, 0, 1, 0, 0, 0, 0],\n",
    "     [90, 18, 51, -78, 2, 98, -11, 74, -1, -7, 45, 70, 88, 1, 0, 0, 1, 0, 0, 0],\n",
    "     [-3, 95, -57, -18, -33, 100, -18, 85, 84, -17, 42, 29, -52, 74, 0, 0, 0, 1, 0, 0],\n",
    "     [47, 24, -19, 89, -74, 77, 13, 60, 83, 66, -17, -24, -3, 58, 0, 0, 0, 0, 1, 0],\n",
    "     [-75, 43, 46, 72, 21, -99, 97, 92, 82, -25, 41, 50, -5, 57, 0, 0, 0, 0, 0, 1]])\n",
    "\n",
    "#coeficientes de la función objetivo\n",
    "c = np.array([44,18,60,27,-79,-51,92,-78,-69,-35,26,-56,-10,-55,0,0,0,0,0,0])\n",
    "\n",
    "#términos independientes de las restricciones\n",
    "b = np.array([64, 537, 55, 292, 1017, 6, 441, 312, 381, 398])\n"
   ]
  },
  {
   "cell_type": "code",
   "execution_count": null,
   "metadata": {},
   "outputs": [],
   "source": [
    "# formato fase 1\n",
    "c_2 = c\n",
    "a=A\n",
    "m=len(A)\n",
    "n=len(A[0])\n",
    "num_variables_no_basicas = n-m\n",
    "num_variables_basicas = m\n",
    "id=np.identity(m) #matriz identidad para las variables artificiales\n",
    "ones=np.ones(m) #función objetivo de la fase I\n",
    "c_prefase_1=np.zeros(n) \n",
    "A_fase_1 = np.insert(a,n,id,axis=1)\n",
    "c_fase_1 = np.insert(c_prefase_1,n,ones,axis=0)\n",
    "indices_basicas = np.array(range(n,n+m))\n",
    "indices_no_basicas = np.array(range(n))\n",
    "indices_inventadas = np.array(range(n,n+m))"
   ]
  },
  {
   "cell_type": "code",
   "execution_count": 213,
   "metadata": {},
   "outputs": [
    {
     "data": {
      "text/plain": [
       "array([0., 0., 0., 0., 0., 0., 0., 0., 0., 0., 0., 0., 0., 0., 0., 0., 0.,\n",
       "       0., 0., 0., 1., 1., 1., 1., 1., 1., 1., 1., 1., 1.])"
      ]
     },
     "execution_count": 213,
     "metadata": {},
     "output_type": "execute_result"
    }
   ],
   "source": [
    "c_fase_1"
   ]
  },
  {
   "cell_type": "code",
   "execution_count": null,
   "metadata": {},
   "outputs": [
    {
     "name": "stdout",
     "output_type": "stream",
     "text": [
      "[[ 15 -36  30 -54  39 -92  54 -76  75  30  54 -36 -18  79   0   0   0   0\n",
      "    0   0]\n",
      " [-41 -38  90  74  56  37  32  92  32  35  57  64  98 -51   0   0   0   0\n",
      "    0   0]\n",
      " [-48  38 -18  20  89  15  56 -64 -78  35  65  55 -87 -23   0   0   0   0\n",
      "    0   0]\n",
      " [-65  36  77  49  74  68  56 -91  37  78   9  63 -36 -63   0   0   0   0\n",
      "    0   0]\n",
      " [100  93  50  86  50  81  67  52  52  87  61  72  68  97   1   0   0   0\n",
      "    0   0]\n",
      " [-23 -27 -69  40 -93  48 -11 -51  64 -82   0  47  65  97   0   1   0   0\n",
      "    0   0]\n",
      " [ 90  18  51 -78   2  98 -11  74  -1  -7  45  70  88   1   0   0   1   0\n",
      "    0   0]\n",
      " [ -3  95 -57 -18 -33 100 -18  85  84 -17  42  29 -52  74   0   0   0   1\n",
      "    0   0]\n",
      " [ 47  24 -19  89 -74  77  13  60  83  66 -17 -24  -3  58   0   0   0   0\n",
      "    1   0]\n",
      " [-75  43  46  72  21 -99  97  92  82 -25  41  50  -5  57   0   0   0   0\n",
      "    0   1]]\n",
      "[[1 0 0 0 0 0 0 0 0 0]\n",
      " [0 1 0 0 0 0 0 0 0 0]\n",
      " [0 0 1 0 0 0 0 0 0 0]\n",
      " [0 0 0 1 0 0 0 0 0 0]\n",
      " [0 0 0 0 1 0 0 0 0 0]\n",
      " [0 0 0 0 0 1 0 0 0 0]\n",
      " [0 0 0 0 0 0 1 0 0 0]\n",
      " [0 0 0 0 0 0 0 1 0 0]\n",
      " [0 0 0 0 0 0 0 0 1 0]\n",
      " [0 0 0 0 0 0 0 0 0 1]]\n"
     ]
    }
   ],
   "source": [
    "filas=np.array(range(m))\n",
    "filas\n",
    "B = A_fase_1[np.ix_(filas,indices_basicas)]\n",
    "An = A_fase_1[np.ix_(filas,indices_no_basicas)]\n",
    "print(An)\n",
    "print(B)\n",
    "\n"
   ]
  },
  {
   "cell_type": "code",
   "execution_count": null,
   "metadata": {},
   "outputs": [
    {
     "name": "stdout",
     "output_type": "stream",
     "text": [
      "Good\n"
     ]
    }
   ],
   "source": [
    "cn = c_fase_1[indices_no_basicas]\n",
    "cb = c_fase_1[indices_basicas]\n",
    "B_inv = inv(B)\n",
    "\n",
    "Xb=np.matmul(B_inv,b)\n",
    "\n",
    "z=np.dot(cb,Xb)\n",
    "\n",
    "#check if all xb is positive\n",
    "if all(val>0 for val in Xb):\n",
    "    #good\n",
    "    print('Good')\n"
   ]
  },
  {
   "cell_type": "code",
   "execution_count": 216,
   "metadata": {},
   "outputs": [
    {
     "name": "stdout",
     "output_type": "stream",
     "text": [
      "[0. 0. 0. 0. 0. 0. 0. 0. 0. 0. 0. 0. 0. 0. 0. 0. 0. 0. 0. 0.] [1. 1. 1. 1. 1. 1. 1. 1. 1. 1.] [  64.  537.   55.  292. 1017.    6.  441.  312.  381.  398.] 3503.0 [  64  537   55  292 1017    6  441  312  381  398]\n"
     ]
    }
   ],
   "source": [
    "print(cn,cb,Xb,z,b)"
   ]
  },
  {
   "cell_type": "code",
   "execution_count": null,
   "metadata": {},
   "outputs": [
    {
     "name": "stdout",
     "output_type": "stream",
     "text": [
      "[   3. -246. -181. -280. -131. -333. -335. -173. -430. -200. -357. -390.\n",
      " -118. -326.   -1.   -1.   -1.   -1.   -1.   -1.]\n"
     ]
    },
    {
     "data": {
      "text/plain": [
       "1"
      ]
     },
     "execution_count": 217,
     "metadata": {},
     "output_type": "execute_result"
    }
   ],
   "source": [
    "cb_x_invB=np.matmul(cb,B_inv)\n",
    "cb_x_invB_An=np.matmul(cb_x_invB,An)\n",
    "r=cn-cb_x_invB_An\n",
    "\n",
    "print(r)\n",
    "#select first negative variable following bland rule\n",
    "#indice_en_r_variable_entrada\n",
    "if all(val>0 for val in r):\n",
    "    print('SBF es óptima')\n",
    "    #stop\n",
    "else:\n",
    "    q=0\n",
    "    for i in range(len(r)):\n",
    "        if r[i]<0:\n",
    "            q=i\n",
    "            break\n",
    "    \n",
    "q"
   ]
  },
  {
   "cell_type": "code",
   "execution_count": 218,
   "metadata": {},
   "outputs": [
    {
     "data": {
      "text/plain": [
       "array([   3., -246., -181., -280., -131., -333., -335., -173., -430.,\n",
       "       -200., -357., -390., -118., -326.,   -1.,   -1.,   -1.,   -1.,\n",
       "         -1.,   -1.])"
      ]
     },
     "execution_count": 218,
     "metadata": {},
     "output_type": "execute_result"
    }
   ],
   "source": [
    "r"
   ]
  },
  {
   "cell_type": "code",
   "execution_count": 219,
   "metadata": {},
   "outputs": [
    {
     "data": {
      "text/plain": [
       "array([[ 15, -36,  30, -54,  39, -92,  54, -76,  75,  30,  54, -36, -18,\n",
       "         79,   0,   0,   0,   0,   0,   0],\n",
       "       [-41, -38,  90,  74,  56,  37,  32,  92,  32,  35,  57,  64,  98,\n",
       "        -51,   0,   0,   0,   0,   0,   0],\n",
       "       [-48,  38, -18,  20,  89,  15,  56, -64, -78,  35,  65,  55, -87,\n",
       "        -23,   0,   0,   0,   0,   0,   0],\n",
       "       [-65,  36,  77,  49,  74,  68,  56, -91,  37,  78,   9,  63, -36,\n",
       "        -63,   0,   0,   0,   0,   0,   0],\n",
       "       [100,  93,  50,  86,  50,  81,  67,  52,  52,  87,  61,  72,  68,\n",
       "         97,   1,   0,   0,   0,   0,   0],\n",
       "       [-23, -27, -69,  40, -93,  48, -11, -51,  64, -82,   0,  47,  65,\n",
       "         97,   0,   1,   0,   0,   0,   0],\n",
       "       [ 90,  18,  51, -78,   2,  98, -11,  74,  -1,  -7,  45,  70,  88,\n",
       "          1,   0,   0,   1,   0,   0,   0],\n",
       "       [ -3,  95, -57, -18, -33, 100, -18,  85,  84, -17,  42,  29, -52,\n",
       "         74,   0,   0,   0,   1,   0,   0],\n",
       "       [ 47,  24, -19,  89, -74,  77,  13,  60,  83,  66, -17, -24,  -3,\n",
       "         58,   0,   0,   0,   0,   1,   0],\n",
       "       [-75,  43,  46,  72,  21, -99,  97,  92,  82, -25,  41,  50,  -5,\n",
       "         57,   0,   0,   0,   0,   0,   1]])"
      ]
     },
     "execution_count": 219,
     "metadata": {},
     "output_type": "execute_result"
    }
   ],
   "source": [
    "An"
   ]
  },
  {
   "cell_type": "code",
   "execution_count": 220,
   "metadata": {},
   "outputs": [
    {
     "data": {
      "text/plain": [
       "array([[1, 0, 0, 0, 0, 0, 0, 0, 0, 0],\n",
       "       [0, 1, 0, 0, 0, 0, 0, 0, 0, 0],\n",
       "       [0, 0, 1, 0, 0, 0, 0, 0, 0, 0],\n",
       "       [0, 0, 0, 1, 0, 0, 0, 0, 0, 0],\n",
       "       [0, 0, 0, 0, 1, 0, 0, 0, 0, 0],\n",
       "       [0, 0, 0, 0, 0, 1, 0, 0, 0, 0],\n",
       "       [0, 0, 0, 0, 0, 0, 1, 0, 0, 0],\n",
       "       [0, 0, 0, 0, 0, 0, 0, 1, 0, 0],\n",
       "       [0, 0, 0, 0, 0, 0, 0, 0, 1, 0],\n",
       "       [0, 0, 0, 0, 0, 0, 0, 0, 0, 1]])"
      ]
     },
     "execution_count": 220,
     "metadata": {},
     "output_type": "execute_result"
    }
   ],
   "source": [
    "B"
   ]
  },
  {
   "cell_type": "code",
   "execution_count": 221,
   "metadata": {},
   "outputs": [
    {
     "data": {
      "text/plain": [
       "1"
      ]
     },
     "execution_count": 221,
     "metadata": {},
     "output_type": "execute_result"
    }
   ],
   "source": [
    "q\n"
   ]
  },
  {
   "cell_type": "code",
   "execution_count": null,
   "metadata": {},
   "outputs": [
    {
     "name": "stderr",
     "output_type": "stream",
     "text": [
      "C:\\Users\\mikel\\AppData\\Local\\Temp\\ipykernel_23524\\1304036990.py:3: DeprecationWarning: Conversion of an array with ndim > 0 to a scalar is deprecated, and will error in future. Ensure you extract a single element from your array before performing this operation. (Deprecated NumPy 1.25.)\n",
      "  q_int=int(q)\n"
     ]
    }
   ],
   "source": [
    "q=np.array([q])\n",
    "Aq = A_fase_1[np.ix_(filas,q)]\n",
    "q_int=int(q)"
   ]
  },
  {
   "cell_type": "code",
   "execution_count": 223,
   "metadata": {},
   "outputs": [
    {
     "data": {
      "text/plain": [
       "1"
      ]
     },
     "execution_count": 223,
     "metadata": {},
     "output_type": "execute_result"
    }
   ],
   "source": [
    "q_int"
   ]
  },
  {
   "cell_type": "code",
   "execution_count": 224,
   "metadata": {},
   "outputs": [
    {
     "data": {
      "text/plain": [
       "array([[-36],\n",
       "       [-38],\n",
       "       [ 38],\n",
       "       [ 36],\n",
       "       [ 93],\n",
       "       [-27],\n",
       "       [ 18],\n",
       "       [ 95],\n",
       "       [ 24],\n",
       "       [ 43]])"
      ]
     },
     "execution_count": 224,
     "metadata": {},
     "output_type": "execute_result"
    }
   ],
   "source": [
    "Aq"
   ]
  },
  {
   "cell_type": "code",
   "execution_count": null,
   "metadata": {},
   "outputs": [],
   "source": [
    "db=np.matmul(-B_inv,Aq)\n",
    "db_min=np.matmul(-B_inv,Aq)\n",
    "for i in range(m):\n",
    "    if db_min[i]>0:\n",
    "        db_min[i]=-0.0001\n",
    "\n",
    "if all(val>=0 for val in db):\n",
    "    print('(PL) no acotado')\n",
    "    #stop"
   ]
  },
  {
   "cell_type": "code",
   "execution_count": 226,
   "metadata": {},
   "outputs": [
    {
     "data": {
      "text/plain": [
       "array([[ 36.],\n",
       "       [ 38.],\n",
       "       [-38.],\n",
       "       [-36.],\n",
       "       [-93.],\n",
       "       [ 27.],\n",
       "       [-18.],\n",
       "       [-95.],\n",
       "       [-24.],\n",
       "       [-43.]])"
      ]
     },
     "execution_count": 226,
     "metadata": {},
     "output_type": "execute_result"
    }
   ],
   "source": [
    "db"
   ]
  },
  {
   "cell_type": "code",
   "execution_count": 227,
   "metadata": {},
   "outputs": [
    {
     "data": {
      "text/plain": [
       "array([[ -0.0001],\n",
       "       [ -0.0001],\n",
       "       [-38.    ],\n",
       "       [-36.    ],\n",
       "       [-93.    ],\n",
       "       [ -0.0001],\n",
       "       [-18.    ],\n",
       "       [-95.    ],\n",
       "       [-24.    ],\n",
       "       [-43.    ]])"
      ]
     },
     "execution_count": 227,
     "metadata": {},
     "output_type": "execute_result"
    }
   ],
   "source": [
    "db_min"
   ]
  },
  {
   "cell_type": "code",
   "execution_count": 228,
   "metadata": {},
   "outputs": [
    {
     "data": {
      "text/plain": [
       "array([  64.,  537.,   55.,  292., 1017.,    6.,  441.,  312.,  381.,\n",
       "        398.])"
      ]
     },
     "execution_count": 228,
     "metadata": {},
     "output_type": "execute_result"
    }
   ],
   "source": [
    "Xb"
   ]
  },
  {
   "cell_type": "code",
   "execution_count": 229,
   "metadata": {},
   "outputs": [
    {
     "name": "stdout",
     "output_type": "stream",
     "text": [
      "[640000.]\n",
      "[5370000.]\n",
      "[1.44736842]\n",
      "[8.11111111]\n",
      "[10.93548387]\n",
      "[60000.]\n",
      "[24.5]\n",
      "[3.28421053]\n",
      "[15.875]\n",
      "[9.25581395]\n"
     ]
    },
    {
     "data": {
      "text/plain": [
       "array([ 640000.        , 5370000.        ,       1.44736842,\n",
       "             8.11111111,      10.93548387,   60000.        ,\n",
       "            24.5       ,       3.28421053,      15.875     ,\n",
       "             9.25581395])"
      ]
     },
     "execution_count": 229,
     "metadata": {},
     "output_type": "execute_result"
    }
   ],
   "source": [
    "pretheta=np.empty(0)\n",
    "for i in range(m):\n",
    "    print(-Xb[i]/db_min[i])\n",
    "    pretheta=np.insert(pretheta,i,-Xb[i]/db_min[i])\n",
    "\n",
    "theta=np.min(pretheta)\n",
    "theta_index=np.argmin(pretheta)\n",
    "pretheta"
   ]
  },
  {
   "cell_type": "code",
   "execution_count": 230,
   "metadata": {},
   "outputs": [
    {
     "data": {
      "text/plain": [
       "np.int64(2)"
      ]
     },
     "execution_count": 230,
     "metadata": {},
     "output_type": "execute_result"
    }
   ],
   "source": [
    "theta_index"
   ]
  },
  {
   "cell_type": "code",
   "execution_count": 231,
   "metadata": {},
   "outputs": [
    {
     "data": {
      "text/plain": [
       "np.float64(1.4473684210526316)"
      ]
     },
     "execution_count": 231,
     "metadata": {},
     "output_type": "execute_result"
    }
   ],
   "source": [
    "theta"
   ]
  },
  {
   "cell_type": "code",
   "execution_count": 232,
   "metadata": {},
   "outputs": [
    {
     "data": {
      "text/plain": [
       "1.4473684210526316"
      ]
     },
     "execution_count": 232,
     "metadata": {},
     "output_type": "execute_result"
    }
   ],
   "source": [
    "\n",
    "theta_num=float(theta)\n",
    "theta_index_int=int(theta_index)\n",
    "theta_num\n"
   ]
  },
  {
   "cell_type": "code",
   "execution_count": 233,
   "metadata": {},
   "outputs": [
    {
     "data": {
      "text/plain": [
       "2"
      ]
     },
     "execution_count": 233,
     "metadata": {},
     "output_type": "execute_result"
    }
   ],
   "source": [
    "theta_index_int"
   ]
  },
  {
   "cell_type": "code",
   "execution_count": 234,
   "metadata": {},
   "outputs": [
    {
     "data": {
      "text/plain": [
       "2"
      ]
     },
     "execution_count": 234,
     "metadata": {},
     "output_type": "execute_result"
    }
   ],
   "source": [
    "p=theta_index_int\n",
    "p"
   ]
  },
  {
   "cell_type": "code",
   "execution_count": 235,
   "metadata": {},
   "outputs": [
    {
     "data": {
      "text/plain": [
       "1.4473684210526316"
      ]
     },
     "execution_count": 235,
     "metadata": {},
     "output_type": "execute_result"
    }
   ],
   "source": [
    "theta_num"
   ]
  },
  {
   "cell_type": "code",
   "execution_count": 236,
   "metadata": {},
   "outputs": [
    {
     "data": {
      "text/plain": [
       "array([[ 36.],\n",
       "       [ 38.],\n",
       "       [-38.],\n",
       "       [-36.],\n",
       "       [-93.],\n",
       "       [ 27.],\n",
       "       [-18.],\n",
       "       [-95.],\n",
       "       [-24.],\n",
       "       [-43.]])"
      ]
     },
     "execution_count": 236,
     "metadata": {},
     "output_type": "execute_result"
    }
   ],
   "source": [
    "db"
   ]
  },
  {
   "cell_type": "code",
   "execution_count": 237,
   "metadata": {},
   "outputs": [
    {
     "name": "stdout",
     "output_type": "stream",
     "text": [
      "1.4473684210526316\n",
      "[[ 36.]\n",
      " [ 38.]\n",
      " [-38.]\n",
      " [-36.]\n",
      " [-93.]\n",
      " [ 27.]\n",
      " [-18.]\n",
      " [-95.]\n",
      " [-24.]\n",
      " [-43.]]\n",
      "[[  52.10526316]\n",
      " [  55.        ]\n",
      " [ -55.        ]\n",
      " [ -52.10526316]\n",
      " [-134.60526316]\n",
      " [  39.07894737]\n",
      " [ -26.05263158]\n",
      " [-137.5       ]\n",
      " [ -34.73684211]\n",
      " [ -62.23684211]]\n"
     ]
    }
   ],
   "source": [
    "theta_x_db= theta_num*db\n",
    "print(theta_num)\n",
    "print(db)\n",
    "print(theta_x_db)"
   ]
  },
  {
   "cell_type": "code",
   "execution_count": 238,
   "metadata": {},
   "outputs": [
    {
     "data": {
      "text/plain": [
       "array([  64.,  537.,   55.,  292., 1017.,    6.,  441.,  312.,  381.,\n",
       "        398.])"
      ]
     },
     "execution_count": 238,
     "metadata": {},
     "output_type": "execute_result"
    }
   ],
   "source": [
    "Xb"
   ]
  },
  {
   "cell_type": "code",
   "execution_count": 239,
   "metadata": {},
   "outputs": [
    {
     "data": {
      "text/plain": [
       "array([[  52.10526316],\n",
       "       [  55.        ],\n",
       "       [ -55.        ],\n",
       "       [ -52.10526316],\n",
       "       [-134.60526316],\n",
       "       [  39.07894737],\n",
       "       [ -26.05263158],\n",
       "       [-137.5       ],\n",
       "       [ -34.73684211],\n",
       "       [ -62.23684211]])"
      ]
     },
     "execution_count": 239,
     "metadata": {},
     "output_type": "execute_result"
    }
   ],
   "source": [
    "Xb_actual=np.zeros(m)\n",
    "theta_x_db"
   ]
  },
  {
   "cell_type": "code",
   "execution_count": 240,
   "metadata": {},
   "outputs": [
    {
     "name": "stderr",
     "output_type": "stream",
     "text": [
      "C:\\Users\\mikel\\AppData\\Local\\Temp\\ipykernel_23524\\168470611.py:3: DeprecationWarning: Conversion of an array with ndim > 0 to a scalar is deprecated, and will error in future. Ensure you extract a single element from your array before performing this operation. (Deprecated NumPy 1.25.)\n",
      "  Xb_actual[i]=Xb[i]+theta_x_db[i]\n"
     ]
    },
    {
     "data": {
      "text/plain": [
       "array([116.10526316, 592.        ,   1.44736842, 239.89473684,\n",
       "       882.39473684,  45.07894737, 414.94736842, 174.5       ,\n",
       "       346.26315789, 335.76315789])"
      ]
     },
     "execution_count": 240,
     "metadata": {},
     "output_type": "execute_result"
    }
   ],
   "source": [
    "for i in range(m):\n",
    "    #print(i)\n",
    "    Xb_actual[i]=Xb[i]+theta_x_db[i]\n",
    "    if Xb_actual[i]==0:\n",
    "        Xb_actual[i]=theta_num\n",
    "\n",
    "Xb_actual"
   ]
  },
  {
   "cell_type": "code",
   "execution_count": 241,
   "metadata": {},
   "outputs": [
    {
     "name": "stdout",
     "output_type": "stream",
     "text": [
      "[116.10526316 592.           1.44736842 239.89473684 882.39473684\n",
      "  45.07894737 414.94736842 174.5        346.26315789 335.76315789]\n"
     ]
    }
   ],
   "source": [
    "np.set_printoptions(suppress=True)\n",
    "print(Xb_actual)"
   ]
  },
  {
   "cell_type": "code",
   "execution_count": 242,
   "metadata": {},
   "outputs": [
    {
     "data": {
      "text/plain": [
       "array([1])"
      ]
     },
     "execution_count": 242,
     "metadata": {},
     "output_type": "execute_result"
    }
   ],
   "source": [
    "q"
   ]
  },
  {
   "cell_type": "code",
   "execution_count": 243,
   "metadata": {},
   "outputs": [
    {
     "data": {
      "text/plain": [
       "2"
      ]
     },
     "execution_count": 243,
     "metadata": {},
     "output_type": "execute_result"
    }
   ],
   "source": [
    "p"
   ]
  },
  {
   "cell_type": "code",
   "execution_count": 244,
   "metadata": {},
   "outputs": [
    {
     "data": {
      "text/plain": [
       "array([116.10526316, 592.        ,   1.44736842, 239.89473684,\n",
       "       882.39473684,  45.07894737, 414.94736842, 174.5       ,\n",
       "       346.26315789, 335.76315789])"
      ]
     },
     "execution_count": 244,
     "metadata": {},
     "output_type": "execute_result"
    }
   ],
   "source": [
    "Xb_actual"
   ]
  },
  {
   "cell_type": "code",
   "execution_count": 245,
   "metadata": {},
   "outputs": [
    {
     "data": {
      "text/plain": [
       "array([[ 15, -36,  30, -54,  39, -92,  54, -76,  75,  30,  54, -36, -18,\n",
       "         79,   0,   0,   0,   0,   0,   0],\n",
       "       [-41, -38,  90,  74,  56,  37,  32,  92,  32,  35,  57,  64,  98,\n",
       "        -51,   0,   0,   0,   0,   0,   0],\n",
       "       [-48,  38, -18,  20,  89,  15,  56, -64, -78,  35,  65,  55, -87,\n",
       "        -23,   0,   0,   0,   0,   0,   0],\n",
       "       [-65,  36,  77,  49,  74,  68,  56, -91,  37,  78,   9,  63, -36,\n",
       "        -63,   0,   0,   0,   0,   0,   0],\n",
       "       [100,  93,  50,  86,  50,  81,  67,  52,  52,  87,  61,  72,  68,\n",
       "         97,   1,   0,   0,   0,   0,   0],\n",
       "       [-23, -27, -69,  40, -93,  48, -11, -51,  64, -82,   0,  47,  65,\n",
       "         97,   0,   1,   0,   0,   0,   0],\n",
       "       [ 90,  18,  51, -78,   2,  98, -11,  74,  -1,  -7,  45,  70,  88,\n",
       "          1,   0,   0,   1,   0,   0,   0],\n",
       "       [ -3,  95, -57, -18, -33, 100, -18,  85,  84, -17,  42,  29, -52,\n",
       "         74,   0,   0,   0,   1,   0,   0],\n",
       "       [ 47,  24, -19,  89, -74,  77,  13,  60,  83,  66, -17, -24,  -3,\n",
       "         58,   0,   0,   0,   0,   1,   0],\n",
       "       [-75,  43,  46,  72,  21, -99,  97,  92,  82, -25,  41,  50,  -5,\n",
       "         57,   0,   0,   0,   0,   0,   1]])"
      ]
     },
     "execution_count": 245,
     "metadata": {},
     "output_type": "execute_result"
    }
   ],
   "source": [
    "An"
   ]
  },
  {
   "cell_type": "code",
   "execution_count": 246,
   "metadata": {},
   "outputs": [
    {
     "data": {
      "text/plain": [
       "array([0., 0., 0., 0., 0., 0., 0., 0., 0., 0., 0., 0., 0., 0., 0., 0., 0.,\n",
       "       0., 0., 0., 1., 1., 1., 1., 1., 1., 1., 1., 1., 1.])"
      ]
     },
     "execution_count": 246,
     "metadata": {},
     "output_type": "execute_result"
    }
   ],
   "source": [
    "c_fase_1"
   ]
  },
  {
   "cell_type": "code",
   "execution_count": 247,
   "metadata": {},
   "outputs": [
    {
     "data": {
      "text/plain": [
       "array([20, 21, 22, 23, 24, 25, 26, 27, 28, 29])"
      ]
     },
     "execution_count": 247,
     "metadata": {},
     "output_type": "execute_result"
    }
   ],
   "source": [
    "indices_basicas"
   ]
  },
  {
   "cell_type": "code",
   "execution_count": 248,
   "metadata": {},
   "outputs": [
    {
     "data": {
      "text/plain": [
       "array([ 0,  1,  2,  3,  4,  5,  6,  7,  8,  9, 10, 11, 12, 13, 14, 15, 16,\n",
       "       17, 18, 19])"
      ]
     },
     "execution_count": 248,
     "metadata": {},
     "output_type": "execute_result"
    }
   ],
   "source": [
    "indices_no_basicas"
   ]
  },
  {
   "cell_type": "code",
   "execution_count": 249,
   "metadata": {},
   "outputs": [],
   "source": [
    "basica=indices_no_basicas[int(q_int)]\n",
    "no_basica=indices_basicas[int(p)]\n",
    "indices_basicas[int(p)]=basica\n",
    "indices_no_basicas[int(q_int)]=no_basica"
   ]
  },
  {
   "cell_type": "code",
   "execution_count": 296,
   "metadata": {},
   "outputs": [
    {
     "data": {
      "text/plain": [
       "array([ 0, 22,  2,  3,  4,  5,  6,  7,  8,  9, 10, 11, 12, 13, 14, 15, 16,\n",
       "       17, 18, 19])"
      ]
     },
     "execution_count": 296,
     "metadata": {},
     "output_type": "execute_result"
    }
   ],
   "source": [
    "indices_no_basicas"
   ]
  },
  {
   "cell_type": "code",
   "execution_count": 250,
   "metadata": {},
   "outputs": [
    {
     "data": {
      "text/plain": [
       "array([ 0,  2,  3,  4,  5,  6,  7,  8,  9, 10, 11, 12, 13, 14, 15, 16, 17,\n",
       "       18, 19, 22])"
      ]
     },
     "execution_count": 250,
     "metadata": {},
     "output_type": "execute_result"
    }
   ],
   "source": [
    "\n",
    "indices_no_basicas_sort=np.sort(indices_no_basicas)\n",
    "indices_no_basicas_sort"
   ]
  },
  {
   "cell_type": "code",
   "execution_count": 251,
   "metadata": {},
   "outputs": [
    {
     "data": {
      "text/plain": [
       "array([20, 21,  1, 23, 24, 25, 26, 27, 28, 29])"
      ]
     },
     "execution_count": 251,
     "metadata": {},
     "output_type": "execute_result"
    }
   ],
   "source": [
    "indices_basicas"
   ]
  },
  {
   "cell_type": "code",
   "execution_count": 252,
   "metadata": {},
   "outputs": [
    {
     "data": {
      "text/plain": [
       "array([0., 0., 0., 0., 0., 0., 0., 0., 0., 0., 0., 0., 0., 0., 0., 0., 0.,\n",
       "       0., 0., 1.])"
      ]
     },
     "execution_count": 252,
     "metadata": {},
     "output_type": "execute_result"
    }
   ],
   "source": [
    "cn = c_fase_1[indices_no_basicas_sort]\n",
    "cb = c_fase_1[indices_basicas]\n",
    "cn"
   ]
  },
  {
   "cell_type": "code",
   "execution_count": 253,
   "metadata": {},
   "outputs": [
    {
     "data": {
      "text/plain": [
       "array([1., 1., 0., 1., 1., 1., 1., 1., 1., 1.])"
      ]
     },
     "execution_count": 253,
     "metadata": {},
     "output_type": "execute_result"
    }
   ],
   "source": [
    "cb"
   ]
  },
  {
   "cell_type": "code",
   "execution_count": null,
   "metadata": {},
   "outputs": [],
   "source": []
  },
  {
   "cell_type": "code",
   "execution_count": 254,
   "metadata": {},
   "outputs": [
    {
     "data": {
      "text/plain": [
       "array([-246.])"
      ]
     },
     "execution_count": 254,
     "metadata": {},
     "output_type": "execute_result"
    }
   ],
   "source": [
    "r[q]"
   ]
  },
  {
   "cell_type": "code",
   "execution_count": 255,
   "metadata": {},
   "outputs": [],
   "source": [
    "z\n",
    "z_float=float(z)"
   ]
  },
  {
   "cell_type": "code",
   "execution_count": 256,
   "metadata": {},
   "outputs": [
    {
     "data": {
      "text/plain": [
       "3503.0"
      ]
     },
     "execution_count": 256,
     "metadata": {},
     "output_type": "execute_result"
    }
   ],
   "source": [
    "z_float"
   ]
  },
  {
   "cell_type": "code",
   "execution_count": 257,
   "metadata": {},
   "outputs": [
    {
     "data": {
      "text/plain": [
       "array([  64.,  537.,   55.,  292., 1017.,    6.,  441.,  312.,  381.,\n",
       "        398.])"
      ]
     },
     "execution_count": 257,
     "metadata": {},
     "output_type": "execute_result"
    }
   ],
   "source": [
    "Xb"
   ]
  },
  {
   "cell_type": "code",
   "execution_count": 258,
   "metadata": {},
   "outputs": [
    {
     "data": {
      "text/plain": [
       "array([116.10526316, 592.        ,   1.44736842, 239.89473684,\n",
       "       882.39473684,  45.07894737, 414.94736842, 174.5       ,\n",
       "       346.26315789, 335.76315789])"
      ]
     },
     "execution_count": 258,
     "metadata": {},
     "output_type": "execute_result"
    }
   ],
   "source": [
    "Xb_actual"
   ]
  },
  {
   "cell_type": "code",
   "execution_count": 259,
   "metadata": {},
   "outputs": [
    {
     "data": {
      "text/plain": [
       "array([1., 1., 0., 1., 1., 1., 1., 1., 1., 1.])"
      ]
     },
     "execution_count": 259,
     "metadata": {},
     "output_type": "execute_result"
    }
   ],
   "source": [
    "cb"
   ]
  },
  {
   "cell_type": "code",
   "execution_count": 260,
   "metadata": {},
   "outputs": [
    {
     "data": {
      "text/plain": [
       "1.4473684210526316"
      ]
     },
     "execution_count": 260,
     "metadata": {},
     "output_type": "execute_result"
    }
   ],
   "source": [
    "theta_num"
   ]
  },
  {
   "cell_type": "code",
   "execution_count": 261,
   "metadata": {},
   "outputs": [
    {
     "data": {
      "text/plain": [
       "3503.0"
      ]
     },
     "execution_count": 261,
     "metadata": {},
     "output_type": "execute_result"
    }
   ],
   "source": [
    "z_float"
   ]
  },
  {
   "cell_type": "code",
   "execution_count": 278,
   "metadata": {},
   "outputs": [],
   "source": [
    "z_actual_actualizacion=z_float+r[q_int]*theta_num"
   ]
  },
  {
   "cell_type": "code",
   "execution_count": 263,
   "metadata": {},
   "outputs": [
    {
     "data": {
      "text/plain": [
       "1"
      ]
     },
     "execution_count": 263,
     "metadata": {},
     "output_type": "execute_result"
    }
   ],
   "source": [
    "\n",
    "col_An = q_int  \n",
    "col_B = int(p)  \n",
    "col_An"
   ]
  },
  {
   "cell_type": "code",
   "execution_count": 264,
   "metadata": {},
   "outputs": [
    {
     "data": {
      "text/plain": [
       "2"
      ]
     },
     "execution_count": 264,
     "metadata": {},
     "output_type": "execute_result"
    }
   ],
   "source": [
    "col_B"
   ]
  },
  {
   "cell_type": "code",
   "execution_count": 266,
   "metadata": {},
   "outputs": [
    {
     "data": {
      "text/plain": [
       "2"
      ]
     },
     "execution_count": 266,
     "metadata": {},
     "output_type": "execute_result"
    }
   ],
   "source": [
    "p"
   ]
  },
  {
   "cell_type": "code",
   "execution_count": 267,
   "metadata": {},
   "outputs": [
    {
     "data": {
      "text/plain": [
       "array([1])"
      ]
     },
     "execution_count": 267,
     "metadata": {},
     "output_type": "execute_result"
    }
   ],
   "source": [
    "q"
   ]
  },
  {
   "cell_type": "code",
   "execution_count": 268,
   "metadata": {},
   "outputs": [
    {
     "name": "stdout",
     "output_type": "stream",
     "text": [
      "Matrix An after swap:\n",
      " [[ 15   0  30 -54  39 -92  54 -76  75  30  54 -36 -18  79   0   0   0   0\n",
      "    0   0]\n",
      " [-41   0  90  74  56  37  32  92  32  35  57  64  98 -51   0   0   0   0\n",
      "    0   0]\n",
      " [-48   1 -18  20  89  15  56 -64 -78  35  65  55 -87 -23   0   0   0   0\n",
      "    0   0]\n",
      " [-65   0  77  49  74  68  56 -91  37  78   9  63 -36 -63   0   0   0   0\n",
      "    0   0]\n",
      " [100   0  50  86  50  81  67  52  52  87  61  72  68  97   1   0   0   0\n",
      "    0   0]\n",
      " [-23   0 -69  40 -93  48 -11 -51  64 -82   0  47  65  97   0   1   0   0\n",
      "    0   0]\n",
      " [ 90   0  51 -78   2  98 -11  74  -1  -7  45  70  88   1   0   0   1   0\n",
      "    0   0]\n",
      " [ -3   0 -57 -18 -33 100 -18  85  84 -17  42  29 -52  74   0   0   0   1\n",
      "    0   0]\n",
      " [ 47   0 -19  89 -74  77  13  60  83  66 -17 -24  -3  58   0   0   0   0\n",
      "    1   0]\n",
      " [-75   0  46  72  21 -99  97  92  82 -25  41  50  -5  57   0   0   0   0\n",
      "    0   1]]\n",
      "\n",
      "Matrix B after swap:\n",
      " [[  1   0 -36   0   0   0   0   0   0   0]\n",
      " [  0   1 -38   0   0   0   0   0   0   0]\n",
      " [  0   0  38   0   0   0   0   0   0   0]\n",
      " [  0   0  36   1   0   0   0   0   0   0]\n",
      " [  0   0  93   0   1   0   0   0   0   0]\n",
      " [  0   0 -27   0   0   1   0   0   0   0]\n",
      " [  0   0  18   0   0   0   1   0   0   0]\n",
      " [  0   0  95   0   0   0   0   1   0   0]\n",
      " [  0   0  24   0   0   0   0   0   1   0]\n",
      " [  0   0  43   0   0   0   0   0   0   1]]\n"
     ]
    }
   ],
   "source": [
    "\n",
    "# seha e poner p i q en col a i col b\n",
    "\n",
    "\n",
    "An[:, col_An], B[:, col_B] = B[:, col_B].copy().reshape(-1), An[:, col_An].copy().reshape(-1)\n",
    "\n",
    "print(\"Matrix An after swap:\\n\", An)\n",
    "print(\"\\nMatrix B after swap:\\n\", B)\n"
   ]
  },
  {
   "cell_type": "code",
   "execution_count": 269,
   "metadata": {},
   "outputs": [
    {
     "data": {
      "text/plain": [
       "array([[ 15,   0,  30, -54,  39, -92,  54, -76,  75,  30,  54, -36, -18,\n",
       "         79,   0,   0,   0,   0,   0,   0],\n",
       "       [-41,   0,  90,  74,  56,  37,  32,  92,  32,  35,  57,  64,  98,\n",
       "        -51,   0,   0,   0,   0,   0,   0],\n",
       "       [-48,   1, -18,  20,  89,  15,  56, -64, -78,  35,  65,  55, -87,\n",
       "        -23,   0,   0,   0,   0,   0,   0],\n",
       "       [-65,   0,  77,  49,  74,  68,  56, -91,  37,  78,   9,  63, -36,\n",
       "        -63,   0,   0,   0,   0,   0,   0],\n",
       "       [100,   0,  50,  86,  50,  81,  67,  52,  52,  87,  61,  72,  68,\n",
       "         97,   1,   0,   0,   0,   0,   0],\n",
       "       [-23,   0, -69,  40, -93,  48, -11, -51,  64, -82,   0,  47,  65,\n",
       "         97,   0,   1,   0,   0,   0,   0],\n",
       "       [ 90,   0,  51, -78,   2,  98, -11,  74,  -1,  -7,  45,  70,  88,\n",
       "          1,   0,   0,   1,   0,   0,   0],\n",
       "       [ -3,   0, -57, -18, -33, 100, -18,  85,  84, -17,  42,  29, -52,\n",
       "         74,   0,   0,   0,   1,   0,   0],\n",
       "       [ 47,   0, -19,  89, -74,  77,  13,  60,  83,  66, -17, -24,  -3,\n",
       "         58,   0,   0,   0,   0,   1,   0],\n",
       "       [-75,   0,  46,  72,  21, -99,  97,  92,  82, -25,  41,  50,  -5,\n",
       "         57,   0,   0,   0,   0,   0,   1]])"
      ]
     },
     "execution_count": 269,
     "metadata": {},
     "output_type": "execute_result"
    }
   ],
   "source": [
    "An"
   ]
  },
  {
   "cell_type": "code",
   "execution_count": 270,
   "metadata": {},
   "outputs": [
    {
     "data": {
      "text/plain": [
       "array([  64,  537,   55,  292, 1017,    6,  441,  312,  381,  398])"
      ]
     },
     "execution_count": 270,
     "metadata": {},
     "output_type": "execute_result"
    }
   ],
   "source": [
    "b"
   ]
  },
  {
   "cell_type": "code",
   "execution_count": 271,
   "metadata": {},
   "outputs": [
    {
     "data": {
      "text/plain": [
       "array([[  1,   0, -36,   0,   0,   0,   0,   0,   0,   0],\n",
       "       [  0,   1, -38,   0,   0,   0,   0,   0,   0,   0],\n",
       "       [  0,   0,  38,   0,   0,   0,   0,   0,   0,   0],\n",
       "       [  0,   0,  36,   1,   0,   0,   0,   0,   0,   0],\n",
       "       [  0,   0,  93,   0,   1,   0,   0,   0,   0,   0],\n",
       "       [  0,   0, -27,   0,   0,   1,   0,   0,   0,   0],\n",
       "       [  0,   0,  18,   0,   0,   0,   1,   0,   0,   0],\n",
       "       [  0,   0,  95,   0,   0,   0,   0,   1,   0,   0],\n",
       "       [  0,   0,  24,   0,   0,   0,   0,   0,   1,   0],\n",
       "       [  0,   0,  43,   0,   0,   0,   0,   0,   0,   1]])"
      ]
     },
     "execution_count": 271,
     "metadata": {},
     "output_type": "execute_result"
    }
   ],
   "source": [
    "B"
   ]
  },
  {
   "cell_type": "code",
   "execution_count": null,
   "metadata": {},
   "outputs": [
    {
     "data": {
      "text/plain": [
       "array([116.10526316, 592.        ,   1.44736842, 239.89473684,\n",
       "       882.39473684,  45.07894737, 414.94736842, 174.5       ,\n",
       "       346.26315789, 335.76315789])"
      ]
     },
     "execution_count": 272,
     "metadata": {},
     "output_type": "execute_result"
    }
   ],
   "source": [
    "B_inv_2=inv(B)\n",
    "\n",
    "Xb_actual_2=np.matmul(B_inv_2,b)\n",
    "Xb_actual_2 "
   ]
  },
  {
   "cell_type": "code",
   "execution_count": 290,
   "metadata": {},
   "outputs": [
    {
     "data": {
      "text/plain": [
       "array([116.10526316, 592.        ,   1.44736842, 239.89473684,\n",
       "       882.39473684,  45.07894737, 414.94736842, 174.5       ,\n",
       "       346.26315789, 335.76315789])"
      ]
     },
     "execution_count": 290,
     "metadata": {},
     "output_type": "execute_result"
    }
   ],
   "source": [
    "Xb_actual"
   ]
  },
  {
   "cell_type": "code",
   "execution_count": null,
   "metadata": {},
   "outputs": [
    {
     "data": {
      "text/plain": [
       "False"
      ]
     },
     "execution_count": 287,
     "metadata": {},
     "output_type": "execute_result"
    }
   ],
   "source": [
    "#check if xb_actual and xb_actual2 es igual"
   ]
  },
  {
   "cell_type": "code",
   "execution_count": 276,
   "metadata": {},
   "outputs": [
    {
     "data": {
      "text/plain": [
       "np.float64(3146.947368421052)"
      ]
     },
     "execution_count": 276,
     "metadata": {},
     "output_type": "execute_result"
    }
   ],
   "source": [
    "z_actual=np.dot(cb,Xb_actual_2)\n",
    "z_actual"
   ]
  },
  {
   "cell_type": "code",
   "execution_count": 283,
   "metadata": {},
   "outputs": [
    {
     "data": {
      "text/plain": [
       "np.float64(3146.9473684210525)"
      ]
     },
     "execution_count": 283,
     "metadata": {},
     "output_type": "execute_result"
    }
   ],
   "source": [
    "z_actual_actualizacion"
   ]
  },
  {
   "cell_type": "code",
   "execution_count": null,
   "metadata": {},
   "outputs": [],
   "source": [
    "#check if z_actual== z_actual_actualizacion"
   ]
  },
  {
   "cell_type": "code",
   "execution_count": null,
   "metadata": {},
   "outputs": [
    {
     "data": {
      "text/plain": [
       "True"
      ]
     },
     "execution_count": 295,
     "metadata": {},
     "output_type": "execute_result"
    }
   ],
   "source": [
    "#check if z > z_actual_actualizacion\n",
    "z_float>float(z_actual_actualizacion)"
   ]
  },
  {
   "cell_type": "code",
   "execution_count": 294,
   "metadata": {},
   "outputs": [
    {
     "data": {
      "text/plain": [
       "3146.9473684210525"
      ]
     },
     "execution_count": 294,
     "metadata": {},
     "output_type": "execute_result"
    }
   ],
   "source": [
    "float(z_actual_actualizacion)"
   ]
  },
  {
   "cell_type": "code",
   "execution_count": 285,
   "metadata": {},
   "outputs": [
    {
     "data": {
      "text/plain": [
       "array([ 0,  2,  3,  4,  5,  6,  7,  8,  9, 10, 11, 12, 13, 14, 15, 16, 17,\n",
       "       18, 19, 22])"
      ]
     },
     "execution_count": 285,
     "metadata": {},
     "output_type": "execute_result"
    }
   ],
   "source": [
    "indices_no_basicas_sort"
   ]
  },
  {
   "cell_type": "code",
   "execution_count": 284,
   "metadata": {},
   "outputs": [
    {
     "data": {
      "text/plain": [
       "array([[ 15,   0,  30, -54,  39, -92,  54, -76,  75,  30,  54, -36, -18,\n",
       "         79,   0,   0,   0,   0,   0,   0],\n",
       "       [-41,   0,  90,  74,  56,  37,  32,  92,  32,  35,  57,  64,  98,\n",
       "        -51,   0,   0,   0,   0,   0,   0],\n",
       "       [-48,   1, -18,  20,  89,  15,  56, -64, -78,  35,  65,  55, -87,\n",
       "        -23,   0,   0,   0,   0,   0,   0],\n",
       "       [-65,   0,  77,  49,  74,  68,  56, -91,  37,  78,   9,  63, -36,\n",
       "        -63,   0,   0,   0,   0,   0,   0],\n",
       "       [100,   0,  50,  86,  50,  81,  67,  52,  52,  87,  61,  72,  68,\n",
       "         97,   1,   0,   0,   0,   0,   0],\n",
       "       [-23,   0, -69,  40, -93,  48, -11, -51,  64, -82,   0,  47,  65,\n",
       "         97,   0,   1,   0,   0,   0,   0],\n",
       "       [ 90,   0,  51, -78,   2,  98, -11,  74,  -1,  -7,  45,  70,  88,\n",
       "          1,   0,   0,   1,   0,   0,   0],\n",
       "       [ -3,   0, -57, -18, -33, 100, -18,  85,  84, -17,  42,  29, -52,\n",
       "         74,   0,   0,   0,   1,   0,   0],\n",
       "       [ 47,   0, -19,  89, -74,  77,  13,  60,  83,  66, -17, -24,  -3,\n",
       "         58,   0,   0,   0,   0,   1,   0],\n",
       "       [-75,   0,  46,  72,  21, -99,  97,  92,  82, -25,  41,  50,  -5,\n",
       "         57,   0,   0,   0,   0,   0,   1]])"
      ]
     },
     "execution_count": 284,
     "metadata": {},
     "output_type": "execute_result"
    }
   ],
   "source": [
    "An"
   ]
  },
  {
   "cell_type": "code",
   "execution_count": 298,
   "metadata": {},
   "outputs": [
    {
     "name": "stdout",
     "output_type": "stream",
     "text": [
      "Sorted Indices: [ 0  2  3  4  5  6  7  8  9 10 11 12 13 14 15 16 17 18 19 22]\n",
      "Sorted Matrix An:\n",
      "[[ 15  30 -54  39 -92  54 -76  75  30  54 -36 -18  79   0   0   0   0   0\n",
      "    0   0]\n",
      " [-41  90  74  56  37  32  92  32  35  57  64  98 -51   0   0   0   0   0\n",
      "    0   0]\n",
      " [-48 -18  20  89  15  56 -64 -78  35  65  55 -87 -23   0   0   0   0   0\n",
      "    0   1]\n",
      " [-65  77  49  74  68  56 -91  37  78   9  63 -36 -63   0   0   0   0   0\n",
      "    0   0]\n",
      " [100  50  86  50  81  67  52  52  87  61  72  68  97   1   0   0   0   0\n",
      "    0   0]\n",
      " [-23 -69  40 -93  48 -11 -51  64 -82   0  47  65  97   0   1   0   0   0\n",
      "    0   0]\n",
      " [ 90  51 -78   2  98 -11  74  -1  -7  45  70  88   1   0   0   1   0   0\n",
      "    0   0]\n",
      " [ -3 -57 -18 -33 100 -18  85  84 -17  42  29 -52  74   0   0   0   1   0\n",
      "    0   0]\n",
      " [ 47 -19  89 -74  77  13  60  83  66 -17 -24  -3  58   0   0   0   0   1\n",
      "    0   0]\n",
      " [-75  46  72  21 -99  97  92  82 -25  41  50  -5  57   0   0   0   0   0\n",
      "    1   0]]\n"
     ]
    }
   ],
   "source": [
    "# Sort the indices and get the sorted order\n",
    "sorted_indices = np.argsort(indices_no_basicas)  # Get sorted index positions\n",
    "sorted_indices_array = indices_no_basicas[sorted_indices]  # Sorted index array\n",
    "sorted_An = An[:, sorted_indices]  # Reorder columns of An based on sorted indices\n",
    "\n",
    "# Print results\n",
    "print(\"Sorted Indices:\", sorted_indices_array)\n",
    "print(\"Sorted Matrix An:\")\n",
    "print(sorted_An)\n"
   ]
  },
  {
   "cell_type": "code",
   "execution_count": 303,
   "metadata": {},
   "outputs": [
    {
     "name": "stdout",
     "output_type": "stream",
     "text": [
      "An\n",
      "[[ 15  30 -54  39 -92  54 -76  75  30  54 -36 -18  79   0   0   0   0   0\n",
      "    0   0]\n",
      " [-41  90  74  56  37  32  92  32  35  57  64  98 -51   0   0   0   0   0\n",
      "    0   0]\n",
      " [-48 -18  20  89  15  56 -64 -78  35  65  55 -87 -23   0   0   0   0   0\n",
      "    0   1]\n",
      " [-65  77  49  74  68  56 -91  37  78   9  63 -36 -63   0   0   0   0   0\n",
      "    0   0]\n",
      " [100  50  86  50  81  67  52  52  87  61  72  68  97   1   0   0   0   0\n",
      "    0   0]\n",
      " [-23 -69  40 -93  48 -11 -51  64 -82   0  47  65  97   0   1   0   0   0\n",
      "    0   0]\n",
      " [ 90  51 -78   2  98 -11  74  -1  -7  45  70  88   1   0   0   1   0   0\n",
      "    0   0]\n",
      " [ -3 -57 -18 -33 100 -18  85  84 -17  42  29 -52  74   0   0   0   1   0\n",
      "    0   0]\n",
      " [ 47 -19  89 -74  77  13  60  83  66 -17 -24  -3  58   0   0   0   0   1\n",
      "    0   0]\n",
      " [-75  46  72  21 -99  97  92  82 -25  41  50  -5  57   0   0   0   0   0\n",
      "    1   0]]\n",
      "B\n",
      "[[  1   0 -36   0   0   0   0   0   0   0]\n",
      " [  0   1 -38   0   0   0   0   0   0   0]\n",
      " [  0   0  38   0   0   0   0   0   0   0]\n",
      " [  0   0  36   1   0   0   0   0   0   0]\n",
      " [  0   0  93   0   1   0   0   0   0   0]\n",
      " [  0   0 -27   0   0   1   0   0   0   0]\n",
      " [  0   0  18   0   0   0   1   0   0   0]\n",
      " [  0   0  95   0   0   0   0   1   0   0]\n",
      " [  0   0  24   0   0   0   0   0   1   0]\n",
      " [  0   0  43   0   0   0   0   0   0   1]]\n",
      "cn\n",
      "[0. 0. 0. 0. 0. 0. 0. 0. 0. 0. 0. 0. 0. 0. 0. 0. 0. 0. 0. 1.]\n",
      "cb\n",
      "[1. 1. 0. 1. 1. 1. 1. 1. 1. 1.]\n",
      "Xb\n",
      "[116.10526316 592.           1.44736842 239.89473684 882.39473684\n",
      "  45.07894737 414.94736842 174.5        346.26315789 335.76315789]\n",
      "z\n",
      "3146.9473684210525\n",
      "theta\n",
      "1.4473684210526316\n",
      "B(p)\n",
      "2\n"
     ]
    }
   ],
   "source": [
    "print('An')\n",
    "print(sorted_An)\n",
    "print('B')\n",
    "print(B)\n",
    "print('cn')\n",
    "print(cn)\n",
    "print('cb')\n",
    "print(cb)\n",
    "print('Xb')\n",
    "print(Xb_actual_2)\n",
    "print('z')\n",
    "print(z_actual_actualizacion)\n",
    "print('theta')\n",
    "print(theta_num)\n",
    "print('B(p)')\n",
    "print(col_B)\n"
   ]
  },
  {
   "cell_type": "code",
   "execution_count": null,
   "metadata": {},
   "outputs": [],
   "source": []
  }
 ],
 "metadata": {
  "kernelspec": {
   "display_name": "base",
   "language": "python",
   "name": "python3"
  },
  "language_info": {
   "codemirror_mode": {
    "name": "ipython",
    "version": 3
   },
   "file_extension": ".py",
   "mimetype": "text/x-python",
   "name": "python",
   "nbconvert_exporter": "python",
   "pygments_lexer": "ipython3",
   "version": "3.9.12"
  }
 },
 "nbformat": 4,
 "nbformat_minor": 2
}
