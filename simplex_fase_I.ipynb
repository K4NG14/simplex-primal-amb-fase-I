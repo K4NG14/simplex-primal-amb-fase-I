{
 "cells": [
  {
   "cell_type": "code",
   "execution_count": 49,
   "metadata": {},
   "outputs": [],
   "source": [
    "import numpy as np\n",
    "from numpy.linalg import inv"
   ]
  },
  {
   "cell_type": "markdown",
   "metadata": {},
   "source": [
    "# Ejemplo\n",
    "## cjt. datos 23, problema PL 1"
   ]
  },
  {
   "cell_type": "code",
   "execution_count": 50,
   "metadata": {},
   "outputs": [],
   "source": [
    "#matriz de restricciones\n",
    "A = np.array(\n",
    "    [[15, -36, 30, -54, 39, -92, 54, -76, 75, 30, 54, -36, -18, 79, 0, 0, 0, 0, 0, 0], \n",
    "     [-41, -38, 90, 74, 56, 37, 32, 92, 32, 35, 57, 64, 98, -51, 0, 0, 0, 0, 0, 0], \n",
    "     [-48, 38, -18, 20, 89, 15, 56, -64, -78, 35, 65, 55, -87, -23, 0, 0, 0, 0, 0, 0],\n",
    "     [-65, 36, 77, 49, 74, 68, 56, -91, 37, 78, 9, 63, -36, -63, 0, 0, 0, 0, 0, 0],\n",
    "     [100, 93, 50, 86, 50, 81, 67, 52, 52, 87, 61, 72, 68, 97, 1, 0, 0, 0, 0, 0],\n",
    "     [-23, -27, -69, 40, -93, 48, -11, -51, 64, -82, 0, 47, 65, 97, 0, 1, 0, 0, 0, 0],\n",
    "     [90, 18, 51, -78, 2, 98, -11, 74, -1, -7, 45, 70, 88, 1, 0, 0, 1, 0, 0, 0],\n",
    "     [-3, 95, -57, -18, -33, 100, -18, 85, 84, -17, 42, 29, -52, 74, 0, 0, 0, 1, 0, 0],\n",
    "     [47, 24, -19, 89, -74, 77, 13, 60, 83, 66, -17, -24, -3, 58, 0, 0, 0, 0, 1, 0],\n",
    "     [-75, 43, 46, 72, 21, -99, 97, 92, 82, -25, 41, 50, -5, 57, 0, 0, 0, 0, 0, 1]\n",
    "     ])\n",
    "\n",
    "#coeficientes de la función objetivo\n",
    "c = np.array([44,18,60,27,-79,-51,92,-78,-69,-35,26,-56,-10,-55,0,0,0,0,0,0])\n",
    "\n",
    "#términos independientes de las restricciones\n",
    "b = np.array([64, 537, 55, 292, 1017, 6, 441, 312, 381, 398])"
   ]
  },
  {
   "cell_type": "markdown",
   "metadata": {},
   "source": [
    "# Fase I (problema artificial)\n",
    "## Usamos Fase II para resolver el problema\n",
    "\n",
    "**1. Inicialización**\n",
    "\n",
    "· La función objetivo auxiliar de la fase I consiste en minimizar la suma de las variables artificiales. Por lo tanto el **vector de costos (c)** de la fase I consistirá en coeficiente 1 en las variables artificiales y coeficientes 0 en las originales y las de holgura.\n",
    "\n",
    "· La **matriz de restricciones (A)** de la fase I será la matriz que nos dan, seguida de una matriz identidad asociada a las variables artificiales\n"
   ]
  },
  {
   "cell_type": "code",
   "execution_count": 51,
   "metadata": {},
   "outputs": [
    {
     "name": "stdout",
     "output_type": "stream",
     "text": [
      "Es SBF\n"
     ]
    }
   ],
   "source": [
    "# formato fase 1\n",
    "\n",
    "m=len(A) # num de restricciones\n",
    "n=len(A[0]) # num de variables\n",
    "# num de variables basicas = n-m // num de variables no basicas = m\n",
    "\n",
    "id=np.identity(m) #matriz identidad (la usamos para crear la A de la fase I)\n",
    "ones=np.ones(m) #vector de 1 (lo usamos para crear la c de la fase I)\n",
    "\n",
    "indices_basicas = np.array(range(n,n+m)) \n",
    "indices_no_basicas = np.array(range(n)) \n",
    "indices_inventadas = np.array(range(n,n+m)) #al inicio de la fase I, las basicas son las variables inventadas\n",
    "\n",
    "# c fase 1\n",
    "c=np.zeros(n) \n",
    "c = np.insert(c,n,ones) #c = vector de 0 (variables originales) + vector de 1 (variables artificiales)\n",
    "cn = c[indices_no_basicas]\n",
    "cb = c[indices_basicas]\n",
    "\n",
    "# A fase 1 \n",
    "A = np.insert(A,n,id,axis=1) #A = matriz de restricciones original + matriz identidad (variables artificiales)\n",
    "filas=np.array(range(m))\n",
    "B = A[np.ix_(filas,indices_basicas)]\n",
    "An = A[np.ix_(filas,indices_no_basicas)]\n",
    "#B_inv = inv(B) -> 1a iteració de la fase I B_inv = B\n",
    "B_inv = B\n",
    "# Cálculo de Xb\n",
    "# Xb=B_inv*b -> 1a iteración de la fase I Xb = b\n",
    "Xb = np.copy(b)\n",
    "#si en Xb todos los valores son mayores o iguales a 0, es una SBF\n",
    "if all(val>=0 for val in Xb):\n",
    "    print('Es SBF')\n",
    "\n",
    "z = cb @ Xb #cb*Xb"
   ]
  },
  {
   "cell_type": "markdown",
   "metadata": {},
   "source": [
    "# 1a ITERACIÓN"
   ]
  },
  {
   "cell_type": "markdown",
   "metadata": {},
   "source": [
    "**2. Identificación de SBF óptima y selección de variable de entrada:**\n",
    "1. Calcular los costes reducidos 𝑟\n",
    "2. Si 𝑟 ≥ 0 entonces la actual SBF es óptima → STOP. Sino, seleccionar una variable no básica 𝑞 con 𝑟𝑞′ < 0 (variable de entrada)"
   ]
  },
  {
   "cell_type": "code",
   "execution_count": 52,
   "metadata": {},
   "outputs": [
    {
     "name": "stdout",
     "output_type": "stream",
     "text": [
      "r = [   3. -246. -181. -280. -131. -333. -335. -173. -430. -200. -357. -390.\n",
      " -118. -326.   -1.   -1.   -1.   -1.   -1.   -1.]\n",
      "No es el óptimo, seguimos buscando\n",
      "q = 1\n"
     ]
    }
   ],
   "source": [
    "# r = Cn - Cb * inv(B) * An\n",
    "cb_x_invB = cb @ B_inv  # Multiplicación de cb por la inversa de B\n",
    "cb_x_invB_An = cb_x_invB @ An  # Multiplicación del resultado anterior por An\n",
    "r = cn - cb_x_invB_An \n",
    "\n",
    "print(f\"r = {r}\")\n",
    "\n",
    "# Selección de la variable de entrada usando la regla de Bland\n",
    "# elegimos la variable no básica de entrada con el subindice más pequeño con coste negativo \n",
    "optimo = True\n",
    "q_idx = None\n",
    "for i in range(len(r)):\n",
    "    # Como ordenamos las variables no básicas por los subíndices, elegimos el primer valor negativo. Si no hay valores negativos, quiere decir que es optimo\n",
    "    if r[i]<0:\n",
    "        q_idx=i #subindice de la variable de entrada\n",
    "        optimo = False\n",
    "        break\n",
    "\n",
    "if optimo:\n",
    "    print(\"SBF optimo fase I encontrado\")\n",
    "    # Aquí en la fase I comprovaremos que ningun indices pertenece a una variable artificial y que la z sea cero\n",
    "    if not np.isclose(0,z):\n",
    "        print(f\"No factible\")\n",
    "    else:\n",
    "        if np.any(np.isin(indices_basicas, indices_inventadas)):\n",
    "            print(\"Variable artificial aparece en la SBF inicial para la Fase II\")\n",
    "        else:\n",
    "            print(\"Ninguna variable artificial aparece en la SBF inicial para la Fase II\")\n",
    "else:\n",
    "    print(\"No es el óptimo, seguimos buscando\")\n",
    "q = indices_no_basicas[q_idx]\n",
    "print(f\"q = {q}\" if q_idx is not None else \"\")            "
   ]
  },
  {
   "cell_type": "markdown",
   "metadata": {},
   "source": [
    "**3. Cálculo de un DBF de descenso:**\n",
    "1. Calcular 𝑑𝐵 = −inv(𝐵)*𝐴𝑞 (DBF asociada a 𝑥𝑞)\n",
    "2. Si 𝑑𝐵 ≥ 0 ⟹ DBF de descenso no acotada⟹ 𝑃𝐿 no acotado → STOP"
   ]
  },
  {
   "cell_type": "code",
   "execution_count": 53,
   "metadata": {},
   "outputs": [
    {
     "name": "stdout",
     "output_type": "stream",
     "text": [
      "(PL) acotado\n",
      "Aq = [-36 -38  38  36  93 -27  18  95  24  43]\n",
      "db = [ 36  38 -38 -36 -93  27 -18 -95 -24 -43]\n"
     ]
    }
   ],
   "source": [
    "Aq = A[:, q]  # Extraemos la columna correspondiente a xq en A\n",
    "db = -B_inv @ Aq  # Calculamos la dB\n",
    "\n",
    "# Si todos los valores en db son mayores o iguales a 0, el problema no está acotado\n",
    "if np.all(db >= 0):  \n",
    "    print('(PL) no acotado')  \n",
    "else:\n",
    "    print(\"(PL) acotado\")\n",
    "\n",
    "print(f\"Aq = {Aq}\")\n",
    "print(f\"db = {db}\")\n"
   ]
  },
  {
   "cell_type": "markdown",
   "metadata": {},
   "source": [
    "**4. Cálculo de la longitud de paso máximo y selección de la variable de sálida:**\n",
    "1. Escoger la 𝜃* \n",
    "2. Variable básica de salida: 𝐵 𝑝 tal que 𝜃* = −𝑥ℬ 𝑝 /𝑑ℬ(𝑝)"
   ]
  },
  {
   "cell_type": "code",
   "execution_count": 54,
   "metadata": {},
   "outputs": [
    {
     "name": "stdout",
     "output_type": "stream",
     "text": [
      "𝜃 = [        inf         inf  1.44736842  8.11111111 10.93548387         inf\n",
      " 24.5         3.28421053 15.875       9.25581395]\n",
      "𝜃* = 1.4473684210526316\n",
      "p = 2\n"
     ]
    }
   ],
   "source": [
    "# Calculamos las 𝜃 (donde db(i) és negativo) y escogemos la mínima, \n",
    "# si db(i) es postivo, ponemos un valor infinito para no escoger esa 𝜃\n",
    "thetas_lst = np.where(db < -1e-10, -Xb / db, np.inf) \n",
    "print(f\"𝜃 = {thetas_lst}\")\n",
    "theta = np.min(thetas_lst) # Escogemos el valor mínimo \n",
    "p = np.argmin(thetas_lst)\n",
    "print(f\"𝜃* = {theta}\")\n",
    "print(f\"p = {p}\")\n"
   ]
  },
  {
   "cell_type": "markdown",
   "metadata": {},
   "source": [
    "**5. Actualizaciones y cambio de base:**\n",
    "1. Actualizar las variables básicas y la función objetivo: x𝐵 ≔ xB + 𝜃𝑑𝐵, 𝑥𝑞 ≔ 𝜃 ; 𝑧 = 𝑧 + 𝜃*𝑟𝑞\n",
    "2. Actualizar los conjuntos ℬ y 𝒩: ℬ:=ℬ∖{𝐵(𝑝)} ∪ {𝑞} , 𝒩 ≔ 𝒩 ∖ {𝑞} ∪ {𝐵(p)}"
   ]
  },
  {
   "cell_type": "code",
   "execution_count": 55,
   "metadata": {},
   "outputs": [
    {
     "name": "stdout",
     "output_type": "stream",
     "text": [
      "La z nueva mejora -> z_nueva = 3146.9473684210525  z_anterior = 3503.0\n",
      "Inversa de B correctamente actualizada\n"
     ]
    }
   ],
   "source": [
    "# Actualizamos índices para las variables básicas\n",
    "temp = indices_basicas[p]\n",
    "indices_basicas[p] = q\n",
    "\n",
    "# Actualizar índices para las variabels no básicas (quitar q y añadir el que salió)\n",
    "indices_no_basicas = np.array([i for i in range(A.shape[1]) if i not in indices_basicas])\n",
    "\n",
    "# Actualizar las matrices B y An con los nuevos ínidices\n",
    "B = A[:, indices_basicas]\n",
    "An = A[:, indices_no_basicas]\n",
    "\n",
    "#Actualizar cb y cn\n",
    "cb = c[indices_basicas]\n",
    "cn = c[indices_no_basicas]\n",
    "\n",
    "# Actualizar Xb \n",
    "Xb_actual = np.zeros(m)\n",
    "for i in range(m):\n",
    "    if i == p:\n",
    "        Xb_actual[i] = theta\n",
    "    else:\n",
    "        Xb_actual[i] = Xb[i] + theta * db[i]\n",
    "Xb = Xb_actual\n",
    "\n",
    "# Verificar factibilidad\n",
    "if np.any(Xb_actual < -1e-10):  \n",
    "    print(\"Solución no factible\")\n",
    "\n",
    "# Actualizar z\n",
    "z_nuevo = float(z) + r[q_idx] * theta\n",
    "#Comprovar que la z nueva es menor que la z anterior\n",
    "if (z_nuevo < z):\n",
    "    print(f\"La z nueva mejora -> z_nueva = {z_nuevo}  z_anterior = {z}\")\n",
    "else:\n",
    "    print(f\"La z nueva NO mejora -> z_nueva = {z_nuevo}  z_anterior = {z}\")\n",
    "z = z_nuevo\n",
    "\n",
    "#Actualización de la B_inv\n",
    "\n",
    "# Calcular y_k = B_inv * a_k (columna que entra)\n",
    "a_k = A[:, q]       # Se obtiene la columna 'q' de la matriz A (variable entrante)\n",
    "y_k = B_inv @ a_k   # Se calcula y_k = B_inv * a_k\n",
    "\n",
    "# Construir la matriz de transformación E\n",
    "E = np.eye(m)               # Inicializamos E como una matriz identidad de tamaño m×m\n",
    "E[:, p] = -y_k / y_k[p]    # Reemplazamos la columna 'p' de E con -y_k / y_k[p]\n",
    "E[p, p] = 1 / y_k[p]       # Ajustamos el elemento diagonal E[p,p] para pivotear\n",
    "\n",
    "# Actualizar B_inv usando E\n",
    "B_inv_actualizada = E @ B_inv\n",
    "\n",
    "#Comprobamos si se actualiza bien la inversa de B\n",
    "if np.allclose(np.linalg.inv(B), B_inv_actualizada):\n",
    "    print(\"Inversa de B correctamente actualizada\")\n",
    "    B_inv = B_inv_actualizada\n",
    "else:\n",
    "    print(\"Inversa de B no se actualiza correctamente, volvemos a calcular la inversa desde cero\")\n",
    "    B_inv = np.linalg.inv(B)"
   ]
  },
  {
   "cell_type": "markdown",
   "metadata": {},
   "source": [
    "**6. Ir a 2.**\n"
   ]
  },
  {
   "cell_type": "markdown",
   "metadata": {},
   "source": [
    "# N-sima iteración:\n",
    "**Si continuamos ejecutando el simplex, estas son los resultados de las iteraciones futuras:**\n",
    "| Iteración|    q        |      B(p)      |    θ*   |       z      |\n",
    "|----------|-------------|----------------|---------|--------------|\n",
    "| 1        | 1           | 22             | 1.447   | 3503.000000  |\n",
    "| 2        | 0           | 27             | 1.491   | 3146.947368  |\n",
    "| 3        | 2           | 23             | 2.923   | 2687.972335  |\n",
    "| 4        | 3           | 24             | 1.559   | 1726.204558  |\n",
    "| 5        | 5           | 28             | 0.258   | 1316.888708  |\n",
    "| 6        | 6           | 26             | 0.751   | 1283.464975  |\n",
    "| 7        | 7           | 29             | 1.099   | 1202.171457  |\n",
    "| 8        | 4           | 21             | 1.541   | 798.085558   |\n",
    "| 9        | 8           | 20             | 1.809   | 764.130826   |\n",
    "| 10       | 10          | 6              | 2.743   | 306.865470   |\n",
    "| 11       | 11          | 25             | 1.558   | 176.845578   |\n",
    "| 12       | -           | -              | -       | -0.000000    |\n",
    "\n",
    "SBF encontrada en la iteración 12.\n"
   ]
  }
 ],
 "metadata": {
  "kernelspec": {
   "display_name": "base",
   "language": "python",
   "name": "python3"
  },
  "language_info": {
   "codemirror_mode": {
    "name": "ipython",
    "version": 3
   },
   "file_extension": ".py",
   "mimetype": "text/x-python",
   "name": "python",
   "nbconvert_exporter": "python",
   "pygments_lexer": "ipython3",
   "version": "3.9.12"
  }
 },
 "nbformat": 4,
 "nbformat_minor": 2
}
