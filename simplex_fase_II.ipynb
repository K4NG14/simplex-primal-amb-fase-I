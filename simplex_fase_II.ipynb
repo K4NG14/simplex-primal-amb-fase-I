{
 "cells": [
  {
   "cell_type": "code",
   "execution_count": 163,
   "metadata": {},
   "outputs": [],
   "source": [
    "import numpy as np\n",
    "from numpy.linalg import inv"
   ]
  },
  {
   "cell_type": "markdown",
   "metadata": {},
   "source": [
    "# Ejemplo\n",
    "## cjt. datos 23, problema PL 1"
   ]
  },
  {
   "cell_type": "code",
   "execution_count": 164,
   "metadata": {},
   "outputs": [],
   "source": [
    "#matriz de restricciones\n",
    "A = np.array(\n",
    "    [[15, -36, 30, -54, 39, -92, 54, -76, 75, 30, 54, -36, -18, 79, 0, 0, 0, 0, 0, 0], \n",
    "     [-41, -38, 90, 74, 56, 37, 32, 92, 32, 35, 57, 64, 98, -51, 0, 0, 0, 0, 0, 0], \n",
    "     [-48, 38, -18, 20, 89, 15, 56, -64, -78, 35, 65, 55, -87, -23, 0, 0, 0, 0, 0, 0],\n",
    "     [-65, 36, 77, 49, 74, 68, 56, -91, 37, 78, 9, 63, -36, -63, 0, 0, 0, 0, 0, 0],\n",
    "     [100, 93, 50, 86, 50, 81, 67, 52, 52, 87, 61, 72, 68, 97, 1, 0, 0, 0, 0, 0],\n",
    "     [-23, -27, -69, 40, -93, 48, -11, -51, 64, -82, 0, 47, 65, 97, 0, 1, 0, 0, 0, 0],\n",
    "     [90, 18, 51, -78, 2, 98, -11, 74, -1, -7, 45, 70, 88, 1, 0, 0, 1, 0, 0, 0],\n",
    "     [-3, 95, -57, -18, -33, 100, -18, 85, 84, -17, 42, 29, -52, 74, 0, 0, 0, 1, 0, 0],\n",
    "     [47, 24, -19, 89, -74, 77, 13, 60, 83, 66, -17, -24, -3, 58, 0, 0, 0, 0, 1, 0],\n",
    "     [-75, 43, 46, 72, 21, -99, 97, 92, 82, -25, 41, 50, -5, 57, 0, 0, 0, 0, 0, 1]\n",
    "     ])\n",
    "\n",
    "#coeficientes de la función objetivo\n",
    "c = np.array([44,18,60,27,-79,-51,92,-78,-69,-35,26,-56,-10,-55,0,0,0,0,0,0])\n",
    "\n",
    "#términos independientes de las restricciones\n",
    "b = np.array([64, 537, 55, 292, 1017, 6, 441, 312, 381, 398])\n",
    "\n",
    "m=len(A) # num de restricciones\n",
    "n=len(A[0]) # num de variables\n",
    "\n",
    "id=np.identity(m) #matriz identidad (la usamos para crear la A de la fase I)\n",
    "zeros=np.zeros(m) \n"
   ]
  },
  {
   "cell_type": "markdown",
   "metadata": {},
   "source": [
    "# Fase II\n",
    "\n",
    "Ahora que tenemos una SBF del problema inicial podemos ejecutar la Fase II, que en realidad son los mismos pasos que hemos estado siguiendo en la fase 1 pero con la A y la c del problema original\n",
    "\n",
    "**SBF inicial:**\n",
    "* Índices variables básicas: [ 8  4  1  2  3 11 10  0  5  7 ]\n",
    "* Índices variables básicas: [ 6  9 12 13 14 15 16 17 18 19 ] //eliminamos las variables artificiales\n",
    "\n",
    "**1. Inicialización**"
   ]
  },
  {
   "cell_type": "code",
   "execution_count": null,
   "metadata": {},
   "outputs": [
    {
     "name": "stdout",
     "output_type": "stream",
     "text": [
      "Es SBF\n"
     ]
    }
   ],
   "source": [
    "indices_basicas = np.array([ 8, 4 , 1 , 2 , 3 ,11 ,10 , 0 , 5 , 7])\n",
    "indices_no_basicas = np.array([ 6 , 9 , 12 ,13 ,14 ,15 ,16 ,17 ,18 ,19]) #eliminamos las variables artificiales\n",
    "\n",
    "#Inicializamos B y An\n",
    "filas=np.array(range(m))\n",
    "B = A[np.ix_(filas,indices_basicas)]\n",
    "An = A[np.ix_(filas,indices_no_basicas)]\n",
    "\n",
    "#Inicializamos cb y cn\n",
    "cb = c[indices_basicas]\n",
    "cn = c[indices_no_basicas]\n",
    "\n",
    "#Calculamos la inversa de B\n",
    "B_inv = np.linalg.inv(B)\n",
    "\n",
    "#Calculamos Xb\n",
    "Xb = B_inv @ b\n",
    "\n",
    "z = cb @ Xb\n",
    "\n",
    "if all(val>=0 for val in Xb):\n",
    "    print('Es SBF')\n"
   ]
  },
  {
   "cell_type": "markdown",
   "metadata": {},
   "source": [
    "# 1a ITERACIÓN"
   ]
  },
  {
   "cell_type": "markdown",
   "metadata": {},
   "source": [
    "**2. Identificación de SBF óptima y selección de variable de entrada:**\n",
    "1. Calcular los costes reducidos 𝑟\n",
    "2. Si 𝑟 ≥ 0 entonces la actual SBF es óptima → STOP. Sino, seleccionar una variable no básica 𝑞 con 𝑟𝑞′ < 0 (variable de entrada)\n"
   ]
  },
  {
   "cell_type": "code",
   "execution_count": 166,
   "metadata": {},
   "outputs": [
    {
     "name": "stdout",
     "output_type": "stream",
     "text": [
      "r = [-290.76772351 -371.09167545  506.36809024   30.65557113    3.74177719\n",
      "    1.24492671   -4.40677378    3.10429366   -6.92626358   -2.74312183]\n",
      "No es el óptimo, seguimos buscando\n",
      "-35.17910078240501\n",
      "q = 6\n"
     ]
    }
   ],
   "source": [
    "# r = Cn - Cb * inv(B) * An\n",
    "cb_x_invB = cb @ B_inv  # Multiplicación de cb por la inversa de B\n",
    "cb_x_invB_An = cb_x_invB @ An  # Multiplicación del resultado anterior por An\n",
    "r = cn - cb_x_invB_An \n",
    "\n",
    "print(f\"r = {r}\")\n",
    "\n",
    "# Selección de la variable de entrada usando la regla de Bland\n",
    "# elegimos la variable no básica de entrada con el subindice más pequeño con coste negativo \n",
    "optimo = True\n",
    "q_idx = None\n",
    "for i in range(len(r)):\n",
    "    # Como ordenamos las variables no básicas por los subíndices, elegimos el primer valor negativo. Si no hay valores negativos, quiere decir que es optimo\n",
    "    if r[i]<-1e-10:\n",
    "        q_idx=i #subindice de la variable de entrada\n",
    "        optimo = False\n",
    "        break\n",
    "\n",
    "if optimo:\n",
    "    print(\"SBF optimo fase II encontrado\")\n",
    "    \n",
    "    \n",
    "else:\n",
    "    print(\"No es el óptimo, seguimos buscando\")\n",
    "q = indices_no_basicas[q_idx]\n",
    "print(z)\n",
    "print(f\"q = {q}\" if q_idx is not None else \"\")            "
   ]
  },
  {
   "cell_type": "markdown",
   "metadata": {},
   "source": [
    "**3. Cálculo de un DBF de descenso:**\n",
    "1. Calcular 𝑑𝐵 = −inv(𝐵)*𝐴𝑞 (DBF asociada a 𝑥𝑞)\n",
    "2. Si 𝑑𝐵 ≥ 0 ⟹ DBF de descenso no acotada⟹ 𝑃𝐿 no acotado → STOP"
   ]
  },
  {
   "cell_type": "code",
   "execution_count": 167,
   "metadata": {},
   "outputs": [
    {
     "name": "stdout",
     "output_type": "stream",
     "text": [
      "(PL) acotado\n",
      "Aq = [ 54  32  56  56  67 -11 -11 -18  13  97]\n",
      "db = [ 0.59242459  1.45206249 -0.91774907 -1.35634437 -0.44581336  0.58851968\n",
      " -1.66615427  0.30878153  0.27906446  0.51688937]\n"
     ]
    }
   ],
   "source": [
    "Aq = A[:, q]  # Extraemos la columna correspondiente a xq en A\n",
    "db = -B_inv @ Aq  # Calculamos la dB\n",
    "\n",
    "# Si todos los valores en db son mayores o iguales a 0, el problema no está acotado\n",
    "if np.all(db >= 0):  \n",
    "    print('(PL) no acotado')  \n",
    "else:\n",
    "    print(\"(PL) acotado\")\n",
    "\n",
    "print(f\"Aq = {Aq}\")\n",
    "print(f\"db = {db}\")\n"
   ]
  },
  {
   "cell_type": "markdown",
   "metadata": {},
   "source": [
    "**4. Cálculo de la longitud de paso máximo y selección de la variable de sálida:**\n",
    "1. Escoger la 𝜃* \n",
    "2. Variable básica de salida: 𝐵 𝑝 tal que 𝜃* = −𝑥ℬ 𝑝 /𝑑ℬ(𝑝)"
   ]
  },
  {
   "cell_type": "code",
   "execution_count": 168,
   "metadata": {},
   "outputs": [
    {
     "name": "stdout",
     "output_type": "stream",
     "text": [
      "𝜃 = [       inf        inf 0.92809629 0.98673063 4.65087938        inf\n",
      " 1.23726025        inf        inf        inf]\n",
      "𝜃* = 0.9280962939319488\n",
      "p = 2\n"
     ]
    }
   ],
   "source": [
    "# Calculamos las 𝜃 (donde db(i) és negativo) y escogemos la mínima, \n",
    "# si db(i) es postivo, ponemos un valor infinito para no escoger esa 𝜃\n",
    "thetas_lst = np.where(db < -1e-10, -Xb / db, np.inf) \n",
    "print(f\"𝜃 = {thetas_lst}\")\n",
    "theta = np.min(thetas_lst) # Escogemos el valor mínimo \n",
    "p = np.argmin(thetas_lst)\n",
    "print(f\"𝜃* = {theta}\")\n",
    "print(f\"p = {p}\")"
   ]
  },
  {
   "cell_type": "markdown",
   "metadata": {},
   "source": [
    "**5. Actualizaciones y cambio de base:**\n",
    "1. Actualizar las variables básicas y la función objetivo: x𝐵 ≔ xB + 𝜃𝑑𝐵, 𝑥𝑞 ≔ 𝜃 ; 𝑧 = 𝑧 + 𝜃*𝑟𝑞\n",
    "2. Actualizar los conjuntos ℬ y 𝒩: ℬ:=ℬ∖{𝐵(𝑝)} ∪ {𝑞} , 𝒩 ≔ 𝒩 ∖ {𝑞} ∪ {𝐵(p)}"
   ]
  },
  {
   "cell_type": "code",
   "execution_count": 169,
   "metadata": {},
   "outputs": [
    {
     "name": "stdout",
     "output_type": "stream",
     "text": [
      "La z nueva mejora -> z_nueva = -305.0395473659028  z_anterior = -35.17910078240501\n",
      "Inversa de B correctamente actualizada\n"
     ]
    }
   ],
   "source": [
    "# Actualizamos índices para las variables básicas\n",
    "temp = indices_basicas[p]\n",
    "indices_basicas[p] = q\n",
    "\n",
    "# Actualizar índices para las variabels no básicas (quitar q y añadir el que salió)\n",
    "indices_no_basicas = np.array([i for i in range(A.shape[1]) if i not in indices_basicas])\n",
    "\n",
    "# Actualizar las matrices B y An con los nuevos ínidices\n",
    "B = A[:, indices_basicas]\n",
    "An = A[:, indices_no_basicas]\n",
    "\n",
    "#Actualizar cb y cn\n",
    "cb = c[indices_basicas]\n",
    "cn = c[indices_no_basicas]\n",
    "\n",
    "# Actualizar Xb \n",
    "Xb_actual = np.zeros(m)\n",
    "for i in range(m):\n",
    "    if i == p:\n",
    "        Xb_actual[i] = theta\n",
    "    else:\n",
    "        Xb_actual[i] = Xb[i] + theta * db[i]\n",
    "Xb = Xb_actual\n",
    "\n",
    "# Verificar factibilidad\n",
    "if np.any(Xb_actual < -1e-10):  \n",
    "    print(\"Solución no factible\")\n",
    "\n",
    "# Actualizar z\n",
    "z_nuevo = float(z) + r[q_idx] * theta\n",
    "#Comprovar que la z nueva es menor que la z anterior\n",
    "if (z_nuevo < z):\n",
    "    print(f\"La z nueva mejora -> z_nueva = {z_nuevo}  z_anterior = {z}\")\n",
    "else:\n",
    "    print(f\"La z nueva NO mejora -> z_nueva = {z_nuevo}  z_anterior = {z}\")\n",
    "z = z_nuevo\n",
    "\n",
    "#Actualización de la B_inv\n",
    "\n",
    "# Calcular y_k = B_inv * a_k (columna que entra)\n",
    "a_k = A[:, q]       # Se obtiene la columna 'q' de la matriz A (variable entrante)\n",
    "y_k = B_inv @ a_k   # Se calcula y_k = B_inv * a_k\n",
    "\n",
    "# Construir la matriz de transformación E\n",
    "E = np.eye(m)               # Inicializamos E como una matriz identidad de tamaño m×m\n",
    "E[:, p] = -y_k / y_k[p]    # Reemplazamos la columna 'p' de E con -y_k / y_k[p]\n",
    "E[p, p] = 1 / y_k[p]       # Ajustamos el elemento diagonal E[p,p] para pivotear\n",
    "\n",
    "# Actualizar B_inv usando E\n",
    "B_inv_actualizada = E @ B_inv\n",
    "\n",
    "#Comprobamos si se actualiza bien la inversa de B\n",
    "if np.allclose(np.linalg.inv(B), B_inv_actualizada):\n",
    "    print(\"Inversa de B correctamente actualizada\")\n",
    "    B_inv = B_inv_actualizada\n",
    "else:\n",
    "    print(\"Inversa de B no se actualiza correctamente, volvemos a calcular la inversa desde cero\")\n",
    "    B_inv = np.linalg.inv(B)"
   ]
  },
  {
   "cell_type": "markdown",
   "metadata": {},
   "source": [
    "**6. Ir a 2.**\n"
   ]
  },
  {
   "cell_type": "markdown",
   "metadata": {},
   "source": [
    "# N-sima iteración:\n",
    "**Si continuamos ejecutando el simplex, estas son los resultados de las iteraciones futuras:**"
   ]
  },
  {
   "cell_type": "markdown",
   "metadata": {},
   "source": [
    "**Iteraciones de la Fase II**\n",
    "\n",
    "| Iteración | q | B(p)  | θ*            | z             |\n",
    "|----------|-------------|----------------|---------------|---------------|\n",
    "| 12       | 6           | 1              | 0.928         | -35.179101    |\n",
    "| 13       | 9           | 2              | 0.294         | -305.039547   |\n",
    "| 14       | 1           | 6              | 0.124         | -344.318142   |\n",
    "| 15       | 13          | 1              | 0.241         | -395.391996   |\n",
    "| 16       | 12          | 10             | 0.335         | -450.020698   |\n",
    "| 17       | 1           | 5              | 0.398         | -564.286290   |\n",
    "| 18       | 2           | 3              | 0.163         | -582.095550   |\n",
    "| 19       | 14          | 1              | 85.639        | -587.906477   |\n",
    "| 20       | 16          | 0              | 52.632        | -590.007854   |\n",
    "| 21       | 3           | 2              | 0.006         | -620.293537   |\n",
    "| 22       | 15          | 12             | 273.514       | -621.063902   |\n",
    "| 23       | 18          | 3              | 12.861        | -625.173317   |\n",
    "| 24       | 5           | 13             | 0.372         | -626.793898   |\n",
    "| 25       | 12          | 9              | 0.315         | -638.437594   |\n",
    "| 26       | 19          | 11             | 103.364       | -645.740557   |\n",
    "| 27       | 0           | 16             | 1.119         | -670.629405   |\n",
    "| 28       | 13          | 15             | 1.288         | -672.791338   |\n",
    "| 29       | 9           | 0              | 0.009         | -702.939936   |\n",
    "| 30       | 15          | 18             | 118.532       | -702.986645   |\n",
    "| 31      | -         | -            | -   | -703.648371   |\n",
    "\n",
    "**Solución óptima encontrada en la iteración 31**  \n",
    "**z final:** z = -703.648371  \n",
    "**Fin del simplex primal**"
   ]
  }
 ],
 "metadata": {
  "kernelspec": {
   "display_name": "base",
   "language": "python",
   "name": "python3"
  },
  "language_info": {
   "codemirror_mode": {
    "name": "ipython",
    "version": 3
   },
   "file_extension": ".py",
   "mimetype": "text/x-python",
   "name": "python",
   "nbconvert_exporter": "python",
   "pygments_lexer": "ipython3",
   "version": "3.9.12"
  }
 },
 "nbformat": 4,
 "nbformat_minor": 2
}
