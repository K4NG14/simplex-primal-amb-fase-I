{
 "cells": [
  {
   "cell_type": "code",
   "execution_count": 2,
   "metadata": {},
   "outputs": [],
   "source": [
    "import numpy as np\n",
    "from numpy.linalg import inv"
   ]
  },
  {
   "cell_type": "markdown",
   "metadata": {},
   "source": [
    "# Ejemplo "
   ]
  },
  {
   "cell_type": "code",
   "execution_count": 3,
   "metadata": {},
   "outputs": [],
   "source": [
    "#matriz de restricciones\n",
    "A = np.array([[15, -36, 30, -54, 39, -92, 54, -76, 75, 30, 54, -36, -18, 79, 0, 0, 0, 0, 0, 0], \n",
    "     [-41, -38, 90, 74, 56, 37, 32, 92, 32, 35, 57, 64, 98, -51, 0, 0, 0, 0, 0, 0], \n",
    "     [-48, 38, -18, 20, 89, 15, 56, -64, -78, 35, 65, 55, -87, -23, 0, 0, 0, 0, 0, 0],\n",
    "     [-65, 36, 77, 49, 74, 68, 56, -91, 37, 78, 9, 63, -36, -63, 0, 0, 0, 0, 0, 0],\n",
    "     [100, 93, 50, 86, 50, 81, 67, 52, 52, 87, 61, 72, 68, 97, 1, 0, 0, 0, 0, 0],\n",
    "     [-23, -27, -69, 40, -93, 48, -11, -51, 64, -82, 0, 47, 65, 97, 0, 1, 0, 0, 0, 0],\n",
    "     [90, 18, 51, -78, 2, 98, -11, 74, -1, -7, 45, 70, 88, 1, 0, 0, 1, 0, 0, 0],\n",
    "     [-3, 95, -57, -18, -33, 100, -18, 85, 84, -17, 42, 29, -52, 74, 0, 0, 0, 1, 0, 0],\n",
    "     [47, 24, -19, 89, -74, 77, 13, 60, 83, 66, -17, -24, -3, 58, 0, 0, 0, 0, 1, 0],\n",
    "     [-75, 43, 46, 72, 21, -99, 97, 92, 82, -25, 41, 50, -5, 57, 0, 0, 0, 0, 0, 1]])\n",
    "\n",
    "#coeficientes de la función objetivo\n",
    "c = np.array([44,18,60,27,-79,-51,92,-78,-69,-35,26,-56,-10,-55,0,0,0,0,0,0])\n",
    "\n",
    "#términos independientes de las restricciones\n",
    "b = np.array([64, 537, 55, 292, 1017, 6, 441, 312, 381, 398])"
   ]
  },
  {
   "cell_type": "markdown",
   "metadata": {},
   "source": [
    "# Fase I (problema artificial)\n",
    "## Usamos Fase II para resolver el problema\n",
    "\n",
    "**1. Inicialización**"
   ]
  },
  {
   "cell_type": "code",
   "execution_count": null,
   "metadata": {},
   "outputs": [
    {
     "name": "stdout",
     "output_type": "stream",
     "text": [
      "Good\n"
     ]
    }
   ],
   "source": [
    "# formato fase 1\n",
    "\n",
    "m=len(A) # num de restricciones\n",
    "n=len(A[0]) # num de variables\n",
    "# num de variables no basicas = n-m // num de variables basicas = m\n",
    "\n",
    "id=np.identity(m) #matriz identidad \n",
    "\n",
    "ones=np.ones(m) #vector de 1\n",
    "\n",
    "c_fase_1=np.zeros(n) \n",
    "c_fase_1 = np.insert(c_fase_1,n,ones,axis=0) # función objetivo a minimizar en la fase I\n",
    "\n",
    "A_fase_1 = np.insert(A,n,id,axis=1) # matriz de restricciones con las variables artificiales\n",
    "\n",
    "indices_basicas = np.array(range(n,n+m))\n",
    "indices_no_basicas = np.array(range(n))\n",
    "indices_inventadas = np.array(range(n,n+m))\n",
    "\n",
    "filas=np.array(range(m))\n",
    "B = A_fase_1[np.ix_(filas,indices_basicas)]\n",
    "An = A_fase_1[np.ix_(filas,indices_no_basicas)]\n",
    "\n",
    "cn = c_fase_1[indices_no_basicas]\n",
    "cb = c_fase_1[indices_basicas]\n",
    "B_inv = inv(B)\n",
    "\n",
    "Xb=np.matmul(B_inv,b)\n",
    "\n",
    "z=np.dot(cb,Xb)\n",
    "\n",
    "#comprobar si todos los valores son mayores o iguales a 0, con lo que significa que es una SBF\n",
    "if all(val>=0 for val in Xb):\n",
    "    #good\n",
    "    print('Good')\n",
    "    \n"
   ]
  },
  {
   "cell_type": "markdown",
   "metadata": {},
   "source": [
    "**2. Identificación de SBF óptima y selección de variable de entrada:**"
   ]
  },
  {
   "cell_type": "code",
   "execution_count": null,
   "metadata": {},
   "outputs": [
    {
     "name": "stdout",
     "output_type": "stream",
     "text": [
      "[   3. -246. -181. -280. -131. -333. -335. -173. -430. -200. -357. -390.\n",
      " -118. -326.   -1.   -1.   -1.   -1.   -1.   -1.]\n"
     ]
    }
   ],
   "source": [
    "# r = Cn - Cb * inv(B) * An\n",
    "cb_x_invB=np.matmul(cb,B_inv) # Multiplicación de cb por la inversa de B\n",
    "cb_x_invB_An=np.matmul(cb_x_invB,An) # Multiplicación del resultado anterior por An\n",
    "r=cn-cb_x_invB_An\n",
    "\n",
    "print(r)\n",
    "\n",
    "# Selección de la variable de entrada usando la regla de Bland\n",
    "# elegimos la variable no básica de entrada con el subindice más pequeño con coste negativo \n",
    "optimo = True\n",
    "for i in range(len(r)):\n",
    "    # Como ordenamos las variables no básicas por los subíndices, elegimos el primer valor negativo. Si no hay valores negativos, quiere decir que es optimo\n",
    "    if r[i]<0:\n",
    "        q=i #subindice de la variable de entrada\n",
    "        optimo = False\n",
    "        break\n",
    "\n",
    "if optimo:\n",
    "    print(\"SBF optimo\")\n",
    "    # Aquí en la fase I comprovaremos que ningun indices pertenece a una variable artificial y que la z sea cero\n",
    "    if z>=0:\n",
    "        print(\"No factible\")\n",
    "    else:\n",
    "        for indice in indices_basicas[i]:\n",
    "            if indice in indices_inventadas:\n",
    "                print(\"Ns/Nc\")\n",
    "\n",
    "            "
   ]
  },
  {
   "cell_type": "markdown",
   "metadata": {},
   "source": [
    "**3. Cálculo de un DBF de descenso:**"
   ]
  },
  {
   "cell_type": "code",
   "execution_count": null,
   "metadata": {},
   "outputs": [
    {
     "name": "stderr",
     "output_type": "stream",
     "text": [
      "C:\\Users\\34644\\AppData\\Local\\Temp\\ipykernel_18160\\2961260600.py:3: DeprecationWarning: Conversion of an array with ndim > 0 to a scalar is deprecated, and will error in future. Ensure you extract a single element from your array before performing this operation. (Deprecated NumPy 1.25.)\n",
      "  q_int=int(q)\n"
     ]
    }
   ],
   "source": [
    "q=np.array([q])\n",
    "Aq = A_fase_1[np.ix_(filas,q)]\n",
    "q_int=int(q)\n",
    "\n",
    "db=np.matmul(-B_inv,Aq)\n",
    "db_min=np.copy(db)\n",
    "for i in range(m):\n",
    "    if db_min[i]>0:\n",
    "        db_min[i]=-0.0001\n",
    "\n",
    "if all(val>=0 for val in db):\n",
    "    print('(PL) no acotado')\n",
    "    #stop\n",
    "\n",
    "db=np.matmul(-B_inv,Aq)\n",
    "db_min=np.matmul(-B_inv,Aq)\n",
    "for i in range(m):\n",
    "    if db_min[i]>0:\n",
    "        db_min[i]=-0.0001\n",
    "\n",
    "if all(val>=0 for val in db):\n",
    "    print('(PL) no acotado')\n",
    "    #stop"
   ]
  },
  {
   "cell_type": "markdown",
   "metadata": {},
   "source": [
    "**4. Cálculo de la longitud de paso máximo y selección de la variable de sálida:**"
   ]
  },
  {
   "cell_type": "code",
   "execution_count": null,
   "metadata": {},
   "outputs": [],
   "source": [
    "pretheta=np.empty(0)\n",
    "for i in range(m):\n",
    "    print(-Xb[i]/db_min[i])\n",
    "    pretheta=np.insert(pretheta,i,-Xb[i]/db_min[i])\n",
    "\n",
    "theta=np.min(pretheta)\n",
    "theta_index=np.argmin(pretheta)\n",
    "\n",
    "\n",
    "theta_num=float(theta)\n",
    "theta_index_int=int(theta_index)\n",
    "p=theta_index_int"
   ]
  },
  {
   "cell_type": "markdown",
   "metadata": {},
   "source": [
    "**5. Actualizaciones y cambio de base:**"
   ]
  },
  {
   "cell_type": "code",
   "execution_count": null,
   "metadata": {},
   "outputs": [],
   "source": [
    "#Xb\n",
    "theta_x_db= theta_num*db\n",
    "\n",
    "Xb_actual=np.zeros(m)\n",
    "\n",
    "for i in range(m):\n",
    "    #print(i)\n",
    "    Xb_actual[i]=Xb[i]+theta_x_db[i]\n",
    "    if Xb_actual[i]==0:\n",
    "        Xb_actual[i]=theta_num\n",
    "\n",
    "#Z\n",
    "z_float=float(z)\n",
    "z_actual_actualizacion=z_float+r[q_int]*theta_num\n",
    "\n",
    "#Actualizar B y An\n",
    "\n",
    "basica=indices_no_basicas[int(q_int)]\n",
    "no_basica=indices_basicas[int(p)]\n",
    "indices_basicas[int(p)]=basica\n",
    "indices_no_basicas[int(q_int)]=no_basica\n",
    "\n",
    "col_An = q_int  \n",
    "col_B = int(p) \n",
    "\n",
    "An[:, col_An], B[:, col_B] = B[:, col_B].copy().reshape(-1), An[:, col_An].copy().reshape(-1)\n",
    "\n",
    "indices_no_basicas_sort = np.argsort(indices_no_basicas)  # Get sorted index positions\n",
    "sorted_indices_array = indices_no_basicas[indices_no_basicas_sort]  # Sorted index array\n",
    "sorted_An = An[:, indices_no_basicas_sort]  # Reorder columns of An based on sorted indices\n",
    "\n",
    "cn = c_fase_1[indices_no_basicas_sort]\n",
    "cb = c_fase_1[indices_basicas]\n",
    "\n",
    "#Xb comprovación\n",
    "\n",
    "B_inv_2=inv(B)\n",
    "Xb_actual_2=np.matmul(B_inv_2,b)\n",
    "\n",
    "#Z comprovación\n",
    "\n",
    "z_actual=np.dot(cb,Xb_actual_2)\n",
    "\n",
    "#comprovaciones\n",
    "\n",
    "z_actual==z_actual_actualizacion\n",
    "Xb_actual==Xb_actual_2\n",
    "z_actual_actualizacion<z_float\n",
    "\n",
    "B An cb cn z Xb indices_basicas indices_no_basicas_sort"
   ]
  }
 ],
 "metadata": {
  "kernelspec": {
   "display_name": "base",
   "language": "python",
   "name": "python3"
  },
  "language_info": {
   "codemirror_mode": {
    "name": "ipython",
    "version": 3
   },
   "file_extension": ".py",
   "mimetype": "text/x-python",
   "name": "python",
   "nbconvert_exporter": "python",
   "pygments_lexer": "ipython3",
   "version": "3.9.12"
  }
 },
 "nbformat": 4,
 "nbformat_minor": 2
}
