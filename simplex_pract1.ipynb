{
 "cells": [
  {
   "cell_type": "code",
   "execution_count": 2,
   "metadata": {},
   "outputs": [],
   "source": [
    "import numpy as np\n",
    "from numpy.linalg import inv"
   ]
  },
  {
   "cell_type": "markdown",
   "metadata": {},
   "source": [
    "# Ejemplo\n",
    "## cjt. datos 23, problema PL 1"
   ]
  },
  {
   "cell_type": "code",
   "execution_count": 67,
   "metadata": {},
   "outputs": [],
   "source": [
    "#matriz de restricciones\n",
    "A = np.array(\n",
    "    [[15, -36, 30, -54, 39, -92, 54, -76, 75, 30, 54, -36, -18, 79, 0, 0, 0, 0, 0, 0], \n",
    "     [-41, -38, 90, 74, 56, 37, 32, 92, 32, 35, 57, 64, 98, -51, 0, 0, 0, 0, 0, 0], \n",
    "     [-48, 38, -18, 20, 89, 15, 56, -64, -78, 35, 65, 55, -87, -23, 0, 0, 0, 0, 0, 0],\n",
    "     [-65, 36, 77, 49, 74, 68, 56, -91, 37, 78, 9, 63, -36, -63, 0, 0, 0, 0, 0, 0],\n",
    "     [100, 93, 50, 86, 50, 81, 67, 52, 52, 87, 61, 72, 68, 97, 1, 0, 0, 0, 0, 0],\n",
    "     [-23, -27, -69, 40, -93, 48, -11, -51, 64, -82, 0, 47, 65, 97, 0, 1, 0, 0, 0, 0],\n",
    "     [90, 18, 51, -78, 2, 98, -11, 74, -1, -7, 45, 70, 88, 1, 0, 0, 1, 0, 0, 0],\n",
    "     [-3, 95, -57, -18, -33, 100, -18, 85, 84, -17, 42, 29, -52, 74, 0, 0, 0, 1, 0, 0],\n",
    "     [47, 24, -19, 89, -74, 77, 13, 60, 83, 66, -17, -24, -3, 58, 0, 0, 0, 0, 1, 0],\n",
    "     [-75, 43, 46, 72, 21, -99, 97, 92, 82, -25, 41, 50, -5, 57, 0, 0, 0, 0, 0, 1]\n",
    "     ])\n",
    "\n",
    "#coeficientes de la función objetivo\n",
    "c = np.array([44,18,60,27,-79,-51,92,-78,-69,-35,26,-56,-10,-55,0,0,0,0,0,0])\n",
    "\n",
    "#términos independientes de las restricciones\n",
    "b = np.array([64, 537, 55, 292, 1017, 6, 441, 312, 381, 398])"
   ]
  },
  {
   "cell_type": "markdown",
   "metadata": {},
   "source": [
    "# Fase I (problema artificial)\n",
    "## Usamos Fase II para resolver el problema\n",
    "\n",
    "**1. Inicialización**\n",
    "\n",
    "· La función objetivo auxiliar de la fase I consiste en minimizar la suma de las variables artificiales. Por lo tanto el **vector de costos (c)** de la fase I consistirá en coeficiente 1 en las variables artificiales y coeficientes 0 en las originales y las de holgura.\n",
    "\n",
    "· La **matriz de restricciones (A)** de la fase I será la matriz que nos dan, seguida de una matriz identidad asociada a las variables artificiales\n"
   ]
  },
  {
   "cell_type": "code",
   "execution_count": 72,
   "metadata": {},
   "outputs": [
    {
     "name": "stdout",
     "output_type": "stream",
     "text": [
      "Es SBF\n"
     ]
    }
   ],
   "source": [
    "# formato fase 1\n",
    "\n",
    "m=len(A) # num de restricciones\n",
    "n=len(A[0]) # num de variables\n",
    "# num de variables basicas = n-m // num de variables no basicas = m\n",
    "\n",
    "id=np.identity(m) #matriz identidad (la usamos para crear la A de la fase I)\n",
    "ones=np.ones(m) #vector de 1 (lo usamos para crear la c de la fase I)\n",
    "\n",
    "indices_basicas = np.array(range(n,n+m)) \n",
    "indices_no_basicas = np.array(range(n)) \n",
    "indices_inventadas = np.array(range(n,n+m)) #al inicio de la fase I, las basicas son las variables inventadas\n",
    "\n",
    "# c fase 1\n",
    "c_fase_1=np.zeros(n) \n",
    "c_fase_1 = np.insert(c_fase_1,n,ones) #c = vector de 0 (variables originales) + vector de 1 (variables artificiales)\n",
    "cn = c_fase_1[indices_no_basicas]\n",
    "cb = c_fase_1[indices_basicas]\n",
    "\n",
    "# A fase 1 \n",
    "A_fase_1 = np.insert(A,n,id,axis=1) #A = matriz de restricciones original + matriz identidad (variables artificiales)\n",
    "filas=np.array(range(m))\n",
    "B = A_fase_1[np.ix_(filas,indices_basicas)]\n",
    "An = A_fase_1[np.ix_(filas,indices_no_basicas)]\n",
    "#B_inv = inv(B) -> 1a iteració de la fase I B_inv = B\n",
    "B_inv = B\n",
    "# Cálculo de Xb\n",
    "# Xb=B_inv*b -> 1a iteración de la fase I Xb = b\n",
    "Xb = np.copy(b)\n",
    "#si en Xb todos los valores son mayores o iguales a 0, es una SBF\n",
    "if all(val>=0 for val in Xb):\n",
    "    print('Es SBF')\n",
    "\n",
    "z = cb @ Xb #cb*Xb"
   ]
  },
  {
   "cell_type": "markdown",
   "metadata": {},
   "source": [
    "# 1a ITERACIÓN"
   ]
  },
  {
   "cell_type": "markdown",
   "metadata": {},
   "source": [
    "**2. Identificación de SBF óptima y selección de variable de entrada:**\n",
    "1. Calcular los costes reducidos 𝑟\n",
    "2. Si 𝑟 ≥ 0 entonces la actual SBF es óptima → STOP. Sino, seleccionar una variable no básica 𝑞 con 𝑟𝑞′ < 0 (variable de entrada)"
   ]
  },
  {
   "cell_type": "code",
   "execution_count": 70,
   "metadata": {},
   "outputs": [
    {
     "name": "stdout",
     "output_type": "stream",
     "text": [
      "r = [   3. -246. -181. -280. -131. -333. -335. -173. -430. -200. -357. -390.\n",
      " -118. -326.   -1.   -1.   -1.   -1.   -1.   -1.]\n",
      "No es el óptimo, seguimos buscando\n",
      "q = 1\n"
     ]
    }
   ],
   "source": [
    "# r = Cn - Cb * inv(B) * An\n",
    "cb_x_invB = cb @ B_inv  # Multiplicación de cb por la inversa de B\n",
    "cb_x_invB_An = cb_x_invB @ An  # Multiplicación del resultado anterior por An\n",
    "r = cn - cb_x_invB_An \n",
    "\n",
    "print(f\"r = {r}\")\n",
    "\n",
    "# Selección de la variable de entrada usando la regla de Bland\n",
    "# elegimos la variable no básica de entrada con el subindice más pequeño con coste negativo \n",
    "optimo = True\n",
    "q = None\n",
    "for i in range(len(r)):\n",
    "    # Como ordenamos las variables no básicas por los subíndices, elegimos el primer valor negativo. Si no hay valores negativos, quiere decir que es optimo\n",
    "    if r[i]<0:\n",
    "        q=i #subindice de la variable de entrada\n",
    "        optimo = False\n",
    "        break\n",
    "\n",
    "if optimo:\n",
    "    print(\"SBF optimo fase I encontrado\")\n",
    "    # Aquí en la fase I comprovaremos que ningun indices pertenece a una variable artificial y que la z sea cero\n",
    "    if z>=0:\n",
    "        print(\"No factible\")\n",
    "    else:\n",
    "        for indice in indices_basicas[i]:\n",
    "            if indice in indices_inventadas:\n",
    "                print(\"Variable artificial aparece en la SBF factible incial para la fase II\")\n",
    "else:\n",
    "    print(\"No es el óptimo, seguimos buscando\")\n",
    "\n",
    "print(f\"q = {q}\" if q is not None else \"\")            "
   ]
  },
  {
   "cell_type": "markdown",
   "metadata": {},
   "source": [
    "**3. Cálculo de un DBF de descenso:**\n",
    "1. Calcular 𝑑𝐵 = −inv(𝐵)*𝐴𝑞 (DBF asociada a 𝑥𝑞)\n",
    "2. Si 𝑑𝐵 ≥ 0 ⟹ DBF de descenso no acotada⟹ 𝑃𝐿 no acotado → STOP"
   ]
  },
  {
   "cell_type": "code",
   "execution_count": null,
   "metadata": {},
   "outputs": [
    {
     "name": "stdout",
     "output_type": "stream",
     "text": [
      "[ 36  38 -38 -36 -93  27 -18 -95 -24 -43]\n"
     ]
    }
   ],
   "source": [
    "Aq = A[:, q]  # Extraemos la columna correspondiente a x_q en A\n",
    "db = -B_inv @ Aq  # Calculamos la dirección de búsqueda\n",
    "\n",
    "# Creamos db_min y reemplazamos valores positivos con un valor negativo pequeño para así al mult\n",
    "db_min = np.copy(db)\n",
    "for i in range(m):\n",
    "    if db_min[i]>0:\n",
    "        db_min[i]=-0.0001  \n",
    "\n",
    "# Si todos los valores en db son mayores o iguales a 0, el problema no está acotado\n",
    "if np.all(db >= 0):  \n",
    "    print('(PL) no acotado')  \n",
    "\n"
   ]
  },
  {
   "cell_type": "markdown",
   "metadata": {},
   "source": [
    "**4. Cálculo de la longitud de paso máximo y selección de la variable de sálida:**"
   ]
  },
  {
   "cell_type": "code",
   "execution_count": 55,
   "metadata": {},
   "outputs": [
    {
     "name": "stdout",
     "output_type": "stream",
     "text": [
      "[-inf]\n",
      "[-inf]\n",
      "[1.44736842]\n",
      "[8.11111111]\n",
      "[10.93548387]\n",
      "[-inf]\n",
      "[24.5]\n",
      "[3.28421053]\n",
      "[15.875]\n",
      "[9.25581395]\n"
     ]
    },
    {
     "name": "stderr",
     "output_type": "stream",
     "text": [
      "C:\\Users\\34644\\AppData\\Local\\Temp\\ipykernel_32156\\1115699136.py:3: RuntimeWarning: divide by zero encountered in divide\n",
      "  print(-Xb[i]/db_min[i])\n",
      "C:\\Users\\34644\\AppData\\Local\\Temp\\ipykernel_32156\\1115699136.py:4: RuntimeWarning: divide by zero encountered in divide\n",
      "  pretheta=np.insert(pretheta,i,-Xb[i]/db_min[i])\n"
     ]
    }
   ],
   "source": [
    "pretheta=np.empty(0)\n",
    "for i in range(m):\n",
    "    print(-Xb[i]/db_min[i])\n",
    "    pretheta=np.insert(pretheta,i,-Xb[i]/db_min[i])"
   ]
  },
  {
   "cell_type": "markdown",
   "metadata": {},
   "source": [
    "**5. Actualizaciones y cambio de base:**"
   ]
  },
  {
   "cell_type": "code",
   "execution_count": 37,
   "metadata": {},
   "outputs": [
    {
     "name": "stderr",
     "output_type": "stream",
     "text": [
      "C:\\Users\\34644\\AppData\\Local\\Temp\\ipykernel_32156\\2885913194.py:8: DeprecationWarning: Conversion of an array with ndim > 0 to a scalar is deprecated, and will error in future. Ensure you extract a single element from your array before performing this operation. (Deprecated NumPy 1.25.)\n",
      "  Xb_actual[i]=Xb[i]+theta_x_db[i]\n",
      "C:\\Users\\34644\\AppData\\Local\\Temp\\ipykernel_32156\\2885913194.py:18: DeprecationWarning: Conversion of an array with ndim > 0 to a scalar is deprecated, and will error in future. Ensure you extract a single element from your array before performing this operation. (Deprecated NumPy 1.25.)\n",
      "  basica=indices_no_basicas[int(q_int)]\n",
      "C:\\Users\\34644\\AppData\\Local\\Temp\\ipykernel_32156\\2885913194.py:21: DeprecationWarning: Conversion of an array with ndim > 0 to a scalar is deprecated, and will error in future. Ensure you extract a single element from your array before performing this operation. (Deprecated NumPy 1.25.)\n",
      "  indices_no_basicas[int(q_int)]=no_basica\n"
     ]
    },
    {
     "ename": "ValueError",
     "evalue": "shape mismatch: value array of shape (10,) could not be broadcast to indexing result of shape (10,1)",
     "output_type": "error",
     "traceback": [
      "\u001b[1;31m---------------------------------------------------------------------------\u001b[0m",
      "\u001b[1;31mValueError\u001b[0m                                Traceback (most recent call last)",
      "Input \u001b[1;32mIn [37]\u001b[0m, in \u001b[0;36m<cell line: 26>\u001b[1;34m()\u001b[0m\n\u001b[0;32m     23\u001b[0m col_An \u001b[38;5;241m=\u001b[39m q_int  \n\u001b[0;32m     24\u001b[0m col_B \u001b[38;5;241m=\u001b[39m \u001b[38;5;28mint\u001b[39m(p) \n\u001b[1;32m---> 26\u001b[0m An[:, col_An], B[:, col_B] \u001b[38;5;241m=\u001b[39m B[:, col_B]\u001b[38;5;241m.\u001b[39mcopy()\u001b[38;5;241m.\u001b[39mreshape(\u001b[38;5;241m-\u001b[39m\u001b[38;5;241m1\u001b[39m), An[:, col_An]\u001b[38;5;241m.\u001b[39mcopy()\u001b[38;5;241m.\u001b[39mreshape(\u001b[38;5;241m-\u001b[39m\u001b[38;5;241m1\u001b[39m)\n\u001b[0;32m     28\u001b[0m indices_no_basicas_sort \u001b[38;5;241m=\u001b[39m np\u001b[38;5;241m.\u001b[39margsort(indices_no_basicas)  \u001b[38;5;66;03m# Get sorted index positions\u001b[39;00m\n\u001b[0;32m     29\u001b[0m sorted_indices_array \u001b[38;5;241m=\u001b[39m indices_no_basicas[indices_no_basicas_sort]  \u001b[38;5;66;03m# Sorted index array\u001b[39;00m\n",
      "\u001b[1;31mValueError\u001b[0m: shape mismatch: value array of shape (10,) could not be broadcast to indexing result of shape (10,1)"
     ]
    }
   ],
   "source": [
    "#Xb\n",
    "theta_x_db= theta_num*db\n",
    "\n",
    "Xb_actual=np.zeros(m)\n",
    "\n",
    "for i in range(m):\n",
    "    #print(i)\n",
    "    Xb_actual[i]=Xb[i]+theta_x_db[i]\n",
    "    if Xb_actual[i]==0:\n",
    "        Xb_actual[i]=theta_num\n",
    "\n",
    "#Z\n",
    "z_float=float(z)\n",
    "z_actual_actualizacion=z_float+r[q_int]*theta_num\n",
    "\n",
    "#Actualizar B y An\n",
    "\n",
    "basica=indices_no_basicas[int(q_int)]\n",
    "no_basica=indices_basicas[int(p)]\n",
    "indices_basicas[int(p)]=basica\n",
    "indices_no_basicas[int(q_int)]=no_basica\n",
    "\n",
    "col_An = q_int  \n",
    "col_B = int(p) \n",
    "\n",
    "An[:, col_An], B[:, col_B] = B[:, col_B].copy().reshape(-1), An[:, col_An].copy().reshape(-1)\n",
    "\n",
    "indices_no_basicas_sort = np.argsort(indices_no_basicas)  # Get sorted index positions\n",
    "sorted_indices_array = indices_no_basicas[indices_no_basicas_sort]  # Sorted index array\n",
    "sorted_An = An[:, indices_no_basicas_sort]  # Reorder columns of An based on sorted indices\n",
    "\n",
    "cn = c_fase_1[indices_no_basicas_sort]\n",
    "cb = c_fase_1[indices_basicas]\n",
    "\n",
    "#Xb comprovación\n",
    "\n",
    "B_inv_2=inv(B)\n",
    "Xb_actual_2=np.matmul(B_inv_2,b)\n",
    "\n",
    "#Z comprovación\n",
    "\n",
    "z_actual=np.dot(cb,Xb_actual_2)\n",
    "\n",
    "#comprovaciones\n",
    "\n",
    "z_actual==z_actual_actualizacion\n",
    "Xb_actual==Xb_actual_2\n",
    "z_actual_actualizacion<z_float\n",
    "\n"
   ]
  }
 ],
 "metadata": {
  "kernelspec": {
   "display_name": "base",
   "language": "python",
   "name": "python3"
  },
  "language_info": {
   "codemirror_mode": {
    "name": "ipython",
    "version": 3
   },
   "file_extension": ".py",
   "mimetype": "text/x-python",
   "name": "python",
   "nbconvert_exporter": "python",
   "pygments_lexer": "ipython3",
   "version": "3.9.12"
  }
 },
 "nbformat": 4,
 "nbformat_minor": 2
}
